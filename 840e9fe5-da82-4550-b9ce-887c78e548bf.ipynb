{
 "cells": [
  {
   "cell_type": "markdown",
   "metadata": {
    "toc": true
   },
   "source": [
    "<h1>Содержание<span class=\"tocSkip\"></span></h1>\n",
    "<div class=\"toc\"><ul class=\"toc-item\"><li><span><a href=\"#1.-Обзор-данных\" data-toc-modified-id=\"1.-Обзор-данных-1\">1. Обзор данных</a></span><ul class=\"toc-item\"><li><span><a href=\"#1.1-Выводы\" data-toc-modified-id=\"1.1-Выводы-1.1\">1.1 Выводы</a></span></li></ul></li><li><span><a href=\"#2.-Предобработка-данных\" data-toc-modified-id=\"2.-Предобработка-данных-2\">2. Предобработка данных</a></span><ul class=\"toc-item\"><li><span><a href=\"#2.1-Поиск-и-удаление-дубликатов\" data-toc-modified-id=\"2.1-Поиск-и-удаление-дубликатов-2.1\">2.1 Поиск и удаление дубликатов</a></span></li><li><span><a href=\"#2.2-Исправление-аномалий\" data-toc-modified-id=\"2.2-Исправление-аномалий-2.2\">2.2 Исправление аномалий</a></span></li><li><span><a href=\"#2.3-Заполнение-пропусков\" data-toc-modified-id=\"2.3-Заполнение-пропусков-2.3\">2.3 Заполнение пропусков</a></span></li><li><span><a href=\"#2.4-Прочие-преобразования\" data-toc-modified-id=\"2.4-Прочие-преобразования-2.4\">2.4 Прочие преобразования</a></span></li></ul></li><li><span><a href=\"#3.-Выбор-модели\" data-toc-modified-id=\"3.-Выбор-модели-3\">3. Выбор модели</a></span><ul class=\"toc-item\"><li><span><a href=\"#3.1-Выбор-модели-без-учета-дисбаланса-классов\" data-toc-modified-id=\"3.1-Выбор-модели-без-учета-дисбаланса-классов-3.1\">3.1 Выбор модели без учета дисбаланса классов</a></span><ul class=\"toc-item\"><li><span><a href=\"#3.1.1-Логистическая-регрессия\" data-toc-modified-id=\"3.1.1-Логистическая-регрессия-3.1.1\">3.1.1 Логистическая регрессия</a></span></li><li><span><a href=\"#3.1.2-Случайный-лес\" data-toc-modified-id=\"3.1.2-Случайный-лес-3.1.2\">3.1.2 Случайный лес</a></span></li><li><span><a href=\"#3.1.3-Выводы\" data-toc-modified-id=\"3.1.3-Выводы-3.1.3\">3.1.3 Выводы</a></span></li></ul></li><li><span><a href=\"#3.2-Выбор-модели-c-учетом-дисбаланса-классов\" data-toc-modified-id=\"3.2-Выбор-модели-c-учетом-дисбаланса-классов-3.2\">3.2 Выбор модели c учетом дисбаланса классов</a></span><ul class=\"toc-item\"><li><span><a href=\"#3.2.1-Логистическая-регрессия\" data-toc-modified-id=\"3.2.1-Логистическая-регрессия-3.2.1\">3.2.1 Логистическая регрессия</a></span></li><li><span><a href=\"#3.2.2-Случайный-лес\" data-toc-modified-id=\"3.2.2-Случайный-лес-3.2.2\">3.2.2 Случайный лес</a></span></li><li><span><a href=\"#3.2.3-Выводы\" data-toc-modified-id=\"3.2.3-Выводы-3.2.3\">3.2.3 Выводы</a></span></li></ul></li></ul></li><li><span><a href=\"#4.-Тестирование-модели\" data-toc-modified-id=\"4.-Тестирование-модели-4\">4. Тестирование модели</a></span><ul class=\"toc-item\"><li><span><a href=\"#4.1-Выводы\" data-toc-modified-id=\"4.1-Выводы-4.1\">4.1 Выводы</a></span></li></ul></li><li><span><a href=\"#5.-Общий-вывод\" data-toc-modified-id=\"5.-Общий-вывод-5\">5. Общий вывод</a></span></li><li><span><a href=\"#Чек-лист-готовности-проекта\" data-toc-modified-id=\"Чек-лист-готовности-проекта-6\">Чек-лист готовности проекта</a></span></li></ul></div>"
   ]
  },
  {
   "cell_type": "markdown",
   "metadata": {},
   "source": [
    "# Отток клиентов"
   ]
  },
  {
   "cell_type": "markdown",
   "metadata": {},
   "source": [
    "***Описание проекта***\n",
    "\n",
    "Заказчик этого исследования - «Бета-Банк», который столкнулся с оттоком клиентов. Чтобы предупредить отток в дальнейшем нам необходимо спрогнозировать, уйдёт клиент из банка в ближайшее время или нет. \n",
    "\n",
    "Для целей прогнозирования мы создадим модель бинарной классификации на основе данных о поведении клиентов и расторжении договоров с банком.\n",
    "\n",
    "***Цели исследования***\n",
    "\n",
    "- Построить модель с предельно большим значением метрики *F1*, но не менее 0.59\n",
    "- Дополнительно проконтролировать значение метрики *AUC-ROC* "
   ]
  },
  {
   "cell_type": "markdown",
   "metadata": {},
   "source": [
    "*Ссылка на репозиторий в GitHub: https://github.com/romul771/Bank-Clients-Churn.git*"
   ]
  },
  {
   "cell_type": "markdown",
   "metadata": {},
   "source": [
    "## 1. Обзор данных"
   ]
  },
  {
   "cell_type": "markdown",
   "metadata": {},
   "source": [
    "Импортируем библиотеки, необходимые для дальнейшего анализа, и зададим начальное значение генератора случайных чисел (для воспроизводимости результатов, в том числе при применении инструментов из библиотеки `sklearn`):"
   ]
  },
  {
   "cell_type": "code",
   "execution_count": 1,
   "metadata": {},
   "outputs": [],
   "source": [
    "# Import required libraries\n",
    "import pandas as pd\n",
    "import numpy as np\n",
    "\n",
    "import matplotlib.pyplot as plt\n",
    "import matplotlib.gridspec as gridspec\n",
    "\n",
    "from sklearn.utils import shuffle, resample\n",
    "from sklearn.impute import SimpleImputer, KNNImputer\n",
    "from sklearn.preprocessing import StandardScaler, OneHotEncoder\n",
    "from sklearn.model_selection import train_test_split\n",
    "\n",
    "from imblearn.pipeline import Pipeline\n",
    "from imblearn import FunctionSampler\n",
    "from sklearn.compose import ColumnTransformer\n",
    "\n",
    "from sklearn.linear_model import LogisticRegression\n",
    "from sklearn.ensemble import RandomForestClassifier\n",
    "from sklearn.model_selection import GridSearchCV\n",
    "\n",
    "from sklearn.metrics import confusion_matrix, ConfusionMatrixDisplay\n",
    "from sklearn.metrics import f1_score, classification_report\n",
    "from sklearn.metrics import roc_auc_score, RocCurveDisplay\n",
    "\n",
    "# Set seed value for reproducibility\n",
    "SEED_VALUE = 12345"
   ]
  },
  {
   "cell_type": "markdown",
   "metadata": {},
   "source": [
    "Прочитаем файл `Churn.csv`, содержащий информацию о поведении клиентов и сохраним полученную таблицу в переменной `df`:"
   ]
  },
  {
   "cell_type": "code",
   "execution_count": 2,
   "metadata": {},
   "outputs": [],
   "source": [
    "# Read and save data (set 1st column as index)\n",
    "df = pd.read_csv('Churn.csv', index_col=0)"
   ]
  },
  {
   "cell_type": "markdown",
   "metadata": {},
   "source": [
    "Выведем 10 случайных строк таблицы на экран:"
   ]
  },
  {
   "cell_type": "code",
   "execution_count": 3,
   "metadata": {},
   "outputs": [
    {
     "data": {
      "text/html": [
       "<div>\n",
       "<style scoped>\n",
       "    .dataframe tbody tr th:only-of-type {\n",
       "        vertical-align: middle;\n",
       "    }\n",
       "\n",
       "    .dataframe tbody tr th {\n",
       "        vertical-align: top;\n",
       "    }\n",
       "\n",
       "    .dataframe thead th {\n",
       "        text-align: right;\n",
       "    }\n",
       "</style>\n",
       "<table border=\"1\" class=\"dataframe\">\n",
       "  <thead>\n",
       "    <tr style=\"text-align: right;\">\n",
       "      <th></th>\n",
       "      <th>CustomerId</th>\n",
       "      <th>Surname</th>\n",
       "      <th>CreditScore</th>\n",
       "      <th>Geography</th>\n",
       "      <th>Gender</th>\n",
       "      <th>Age</th>\n",
       "      <th>Tenure</th>\n",
       "      <th>Balance</th>\n",
       "      <th>NumOfProducts</th>\n",
       "      <th>HasCrCard</th>\n",
       "      <th>IsActiveMember</th>\n",
       "      <th>EstimatedSalary</th>\n",
       "      <th>Exited</th>\n",
       "    </tr>\n",
       "  </thead>\n",
       "  <tbody>\n",
       "    <tr>\n",
       "      <th>7868</th>\n",
       "      <td>15697201</td>\n",
       "      <td>Yocum</td>\n",
       "      <td>640</td>\n",
       "      <td>Spain</td>\n",
       "      <td>Female</td>\n",
       "      <td>46</td>\n",
       "      <td>3.00</td>\n",
       "      <td>0.00</td>\n",
       "      <td>1</td>\n",
       "      <td>1</td>\n",
       "      <td>1</td>\n",
       "      <td>156,260.08</td>\n",
       "      <td>0</td>\n",
       "    </tr>\n",
       "    <tr>\n",
       "      <th>1403</th>\n",
       "      <td>15613282</td>\n",
       "      <td>Vorobyova</td>\n",
       "      <td>757</td>\n",
       "      <td>France</td>\n",
       "      <td>Male</td>\n",
       "      <td>29</td>\n",
       "      <td>8.00</td>\n",
       "      <td>130,306.49</td>\n",
       "      <td>1</td>\n",
       "      <td>1</td>\n",
       "      <td>0</td>\n",
       "      <td>77,469.38</td>\n",
       "      <td>0</td>\n",
       "    </tr>\n",
       "    <tr>\n",
       "      <th>8607</th>\n",
       "      <td>15694581</td>\n",
       "      <td>Rawlings</td>\n",
       "      <td>807</td>\n",
       "      <td>Spain</td>\n",
       "      <td>Male</td>\n",
       "      <td>42</td>\n",
       "      <td>5.00</td>\n",
       "      <td>0.00</td>\n",
       "      <td>2</td>\n",
       "      <td>1</td>\n",
       "      <td>1</td>\n",
       "      <td>74,900.90</td>\n",
       "      <td>0</td>\n",
       "    </tr>\n",
       "    <tr>\n",
       "      <th>8886</th>\n",
       "      <td>15815125</td>\n",
       "      <td>Michael</td>\n",
       "      <td>668</td>\n",
       "      <td>Spain</td>\n",
       "      <td>Male</td>\n",
       "      <td>45</td>\n",
       "      <td>4.00</td>\n",
       "      <td>102,486.21</td>\n",
       "      <td>2</td>\n",
       "      <td>1</td>\n",
       "      <td>1</td>\n",
       "      <td>158,379.25</td>\n",
       "      <td>0</td>\n",
       "    </tr>\n",
       "    <tr>\n",
       "      <th>6495</th>\n",
       "      <td>15752846</td>\n",
       "      <td>Pinto</td>\n",
       "      <td>699</td>\n",
       "      <td>France</td>\n",
       "      <td>Male</td>\n",
       "      <td>28</td>\n",
       "      <td>7.00</td>\n",
       "      <td>0.00</td>\n",
       "      <td>2</td>\n",
       "      <td>1</td>\n",
       "      <td>1</td>\n",
       "      <td>22,684.78</td>\n",
       "      <td>0</td>\n",
       "    </tr>\n",
       "    <tr>\n",
       "      <th>9629</th>\n",
       "      <td>15596624</td>\n",
       "      <td>Topp</td>\n",
       "      <td>662</td>\n",
       "      <td>France</td>\n",
       "      <td>Female</td>\n",
       "      <td>22</td>\n",
       "      <td>9.00</td>\n",
       "      <td>0.00</td>\n",
       "      <td>2</td>\n",
       "      <td>1</td>\n",
       "      <td>1</td>\n",
       "      <td>44,377.65</td>\n",
       "      <td>0</td>\n",
       "    </tr>\n",
       "    <tr>\n",
       "      <th>7460</th>\n",
       "      <td>15583724</td>\n",
       "      <td>Raymond</td>\n",
       "      <td>645</td>\n",
       "      <td>Spain</td>\n",
       "      <td>Female</td>\n",
       "      <td>29</td>\n",
       "      <td>4.00</td>\n",
       "      <td>0.00</td>\n",
       "      <td>2</td>\n",
       "      <td>1</td>\n",
       "      <td>1</td>\n",
       "      <td>74,346.11</td>\n",
       "      <td>0</td>\n",
       "    </tr>\n",
       "    <tr>\n",
       "      <th>3965</th>\n",
       "      <td>15714981</td>\n",
       "      <td>Sabbatini</td>\n",
       "      <td>476</td>\n",
       "      <td>France</td>\n",
       "      <td>Male</td>\n",
       "      <td>37</td>\n",
       "      <td>4.00</td>\n",
       "      <td>0.00</td>\n",
       "      <td>1</td>\n",
       "      <td>1</td>\n",
       "      <td>1</td>\n",
       "      <td>55,775.84</td>\n",
       "      <td>1</td>\n",
       "    </tr>\n",
       "    <tr>\n",
       "      <th>7001</th>\n",
       "      <td>15739548</td>\n",
       "      <td>Johnson</td>\n",
       "      <td>775</td>\n",
       "      <td>France</td>\n",
       "      <td>Male</td>\n",
       "      <td>28</td>\n",
       "      <td>9.00</td>\n",
       "      <td>111,167.70</td>\n",
       "      <td>1</td>\n",
       "      <td>1</td>\n",
       "      <td>0</td>\n",
       "      <td>149,331.01</td>\n",
       "      <td>0</td>\n",
       "    </tr>\n",
       "    <tr>\n",
       "      <th>4471</th>\n",
       "      <td>15593795</td>\n",
       "      <td>Linton</td>\n",
       "      <td>516</td>\n",
       "      <td>Germany</td>\n",
       "      <td>Female</td>\n",
       "      <td>53</td>\n",
       "      <td>NaN</td>\n",
       "      <td>156,674.20</td>\n",
       "      <td>1</td>\n",
       "      <td>1</td>\n",
       "      <td>0</td>\n",
       "      <td>118,502.34</td>\n",
       "      <td>1</td>\n",
       "    </tr>\n",
       "  </tbody>\n",
       "</table>\n",
       "</div>"
      ],
      "text/plain": [
       "      CustomerId    Surname  CreditScore Geography  Gender  Age  Tenure  \\\n",
       "7868    15697201      Yocum          640     Spain  Female   46    3.00   \n",
       "1403    15613282  Vorobyova          757    France    Male   29    8.00   \n",
       "8607    15694581   Rawlings          807     Spain    Male   42    5.00   \n",
       "8886    15815125    Michael          668     Spain    Male   45    4.00   \n",
       "6495    15752846      Pinto          699    France    Male   28    7.00   \n",
       "9629    15596624       Topp          662    France  Female   22    9.00   \n",
       "7460    15583724    Raymond          645     Spain  Female   29    4.00   \n",
       "3965    15714981  Sabbatini          476    France    Male   37    4.00   \n",
       "7001    15739548    Johnson          775    France    Male   28    9.00   \n",
       "4471    15593795     Linton          516   Germany  Female   53     NaN   \n",
       "\n",
       "        Balance  NumOfProducts  HasCrCard  IsActiveMember  EstimatedSalary  \\\n",
       "7868       0.00              1          1               1       156,260.08   \n",
       "1403 130,306.49              1          1               0        77,469.38   \n",
       "8607       0.00              2          1               1        74,900.90   \n",
       "8886 102,486.21              2          1               1       158,379.25   \n",
       "6495       0.00              2          1               1        22,684.78   \n",
       "9629       0.00              2          1               1        44,377.65   \n",
       "7460       0.00              2          1               1        74,346.11   \n",
       "3965       0.00              1          1               1        55,775.84   \n",
       "7001 111,167.70              1          1               0       149,331.01   \n",
       "4471 156,674.20              1          1               0       118,502.34   \n",
       "\n",
       "      Exited  \n",
       "7868       0  \n",
       "1403       0  \n",
       "8607       0  \n",
       "8886       0  \n",
       "6495       0  \n",
       "9629       0  \n",
       "7460       0  \n",
       "3965       1  \n",
       "7001       0  \n",
       "4471       1  "
      ]
     },
     "execution_count": 3,
     "metadata": {},
     "output_type": "execute_result"
    }
   ],
   "source": [
    "# Change float format display settings \n",
    "pd.options.display.float_format = \"{:,.2f}\".format\n",
    "\n",
    "# Remove row index name\n",
    "df = df.rename_axis(index=None)\n",
    "\n",
    "# Show 10 random rows of the table\n",
    "df.sample(10, random_state=SEED_VALUE)"
   ]
  },
  {
   "cell_type": "markdown",
   "metadata": {},
   "source": [
    "Согласно документации в таблице представлены следующие данные:\n",
    "\n",
    "- `RowNumber` — индекс строки в данных\n",
    "- `CustomerId` — уникальный идентификатор клиента\n",
    "- `Surname` — фамилия\n",
    "- `CreditScore` — кредитный рейтинг\n",
    "- `Geography` — страна проживания\n",
    "- `Gender` — пол\n",
    "- `Age` — возраст\n",
    "- `Tenure` — сколько лет человек является клиентом банка\n",
    "- `Balance` — баланс на счёте\n",
    "- `NumOfProducts` — количество продуктов банка, используемых клиентом\n",
    "- `HasCrCard` — наличие кредитной карты\n",
    "- `IsActiveMember` — активность клиента\n",
    "- `EstimatedSalary` — предполагаемая зарплата\n",
    "- `Exited` — факт ухода клиента\n",
    "\n",
    "Данные в столбце `Exited` будут использоваться в качестве целевого признака, а остальные данные в качестве признаков (независимых переменных) для бинарной классификации. Каких-то особых аномалий или пропусков пока не видно. \n",
    "\n",
    "Сначала проверим есть ли все-таки пропуски и какие типы данных используются:"
   ]
  },
  {
   "cell_type": "code",
   "execution_count": 4,
   "metadata": {},
   "outputs": [
    {
     "name": "stdout",
     "output_type": "stream",
     "text": [
      "<class 'pandas.core.frame.DataFrame'>\n",
      "Int64Index: 10000 entries, 1 to 10000\n",
      "Data columns (total 13 columns):\n",
      " #   Column           Non-Null Count  Dtype  \n",
      "---  ------           --------------  -----  \n",
      " 0   CustomerId       10000 non-null  int64  \n",
      " 1   Surname          10000 non-null  object \n",
      " 2   CreditScore      10000 non-null  int64  \n",
      " 3   Geography        10000 non-null  object \n",
      " 4   Gender           10000 non-null  object \n",
      " 5   Age              10000 non-null  int64  \n",
      " 6   Tenure           9091 non-null   float64\n",
      " 7   Balance          10000 non-null  float64\n",
      " 8   NumOfProducts    10000 non-null  int64  \n",
      " 9   HasCrCard        10000 non-null  int64  \n",
      " 10  IsActiveMember   10000 non-null  int64  \n",
      " 11  EstimatedSalary  10000 non-null  float64\n",
      " 12  Exited           10000 non-null  int64  \n",
      "dtypes: float64(3), int64(7), object(3)\n",
      "memory usage: 1.1+ MB\n"
     ]
    }
   ],
   "source": [
    "# Print data frame info\n",
    "df.info()"
   ]
  },
  {
   "cell_type": "markdown",
   "metadata": {},
   "source": [
    "В таблице 13 столбцов типов - `int64`(7), `float64`(3) и `object`(3). Размер выборки - 10 тыс. клиентов. Пропуски есть только в столбце `Tenure`, в нем пропущено около 10% значений. \n",
    "\n",
    "Посмотрим более внимательно на количественные признаки в таблице при помощи метода `describe`: "
   ]
  },
  {
   "cell_type": "code",
   "execution_count": 5,
   "metadata": {},
   "outputs": [
    {
     "data": {
      "text/html": [
       "<div>\n",
       "<style scoped>\n",
       "    .dataframe tbody tr th:only-of-type {\n",
       "        vertical-align: middle;\n",
       "    }\n",
       "\n",
       "    .dataframe tbody tr th {\n",
       "        vertical-align: top;\n",
       "    }\n",
       "\n",
       "    .dataframe thead th {\n",
       "        text-align: right;\n",
       "    }\n",
       "</style>\n",
       "<table border=\"1\" class=\"dataframe\">\n",
       "  <thead>\n",
       "    <tr style=\"text-align: right;\">\n",
       "      <th></th>\n",
       "      <th>CreditScore</th>\n",
       "      <th>Age</th>\n",
       "      <th>Tenure</th>\n",
       "      <th>Balance</th>\n",
       "      <th>NumOfProducts</th>\n",
       "      <th>EstimatedSalary</th>\n",
       "    </tr>\n",
       "  </thead>\n",
       "  <tbody>\n",
       "    <tr>\n",
       "      <th>count</th>\n",
       "      <td>10,000.00</td>\n",
       "      <td>10,000.00</td>\n",
       "      <td>9,091.00</td>\n",
       "      <td>10,000.00</td>\n",
       "      <td>10,000.00</td>\n",
       "      <td>10,000.00</td>\n",
       "    </tr>\n",
       "    <tr>\n",
       "      <th>mean</th>\n",
       "      <td>650.53</td>\n",
       "      <td>38.92</td>\n",
       "      <td>5.00</td>\n",
       "      <td>76,485.89</td>\n",
       "      <td>1.53</td>\n",
       "      <td>100,090.24</td>\n",
       "    </tr>\n",
       "    <tr>\n",
       "      <th>std</th>\n",
       "      <td>96.65</td>\n",
       "      <td>10.49</td>\n",
       "      <td>2.89</td>\n",
       "      <td>62,397.41</td>\n",
       "      <td>0.58</td>\n",
       "      <td>57,510.49</td>\n",
       "    </tr>\n",
       "    <tr>\n",
       "      <th>min</th>\n",
       "      <td>350.00</td>\n",
       "      <td>18.00</td>\n",
       "      <td>0.00</td>\n",
       "      <td>0.00</td>\n",
       "      <td>1.00</td>\n",
       "      <td>11.58</td>\n",
       "    </tr>\n",
       "    <tr>\n",
       "      <th>25%</th>\n",
       "      <td>584.00</td>\n",
       "      <td>32.00</td>\n",
       "      <td>2.00</td>\n",
       "      <td>0.00</td>\n",
       "      <td>1.00</td>\n",
       "      <td>51,002.11</td>\n",
       "    </tr>\n",
       "    <tr>\n",
       "      <th>50%</th>\n",
       "      <td>652.00</td>\n",
       "      <td>37.00</td>\n",
       "      <td>5.00</td>\n",
       "      <td>97,198.54</td>\n",
       "      <td>1.00</td>\n",
       "      <td>100,193.91</td>\n",
       "    </tr>\n",
       "    <tr>\n",
       "      <th>75%</th>\n",
       "      <td>718.00</td>\n",
       "      <td>44.00</td>\n",
       "      <td>7.00</td>\n",
       "      <td>127,644.24</td>\n",
       "      <td>2.00</td>\n",
       "      <td>149,388.25</td>\n",
       "    </tr>\n",
       "    <tr>\n",
       "      <th>max</th>\n",
       "      <td>850.00</td>\n",
       "      <td>92.00</td>\n",
       "      <td>10.00</td>\n",
       "      <td>250,898.09</td>\n",
       "      <td>4.00</td>\n",
       "      <td>199,992.48</td>\n",
       "    </tr>\n",
       "  </tbody>\n",
       "</table>\n",
       "</div>"
      ],
      "text/plain": [
       "       CreditScore       Age   Tenure    Balance  NumOfProducts  \\\n",
       "count    10,000.00 10,000.00 9,091.00  10,000.00      10,000.00   \n",
       "mean        650.53     38.92     5.00  76,485.89           1.53   \n",
       "std          96.65     10.49     2.89  62,397.41           0.58   \n",
       "min         350.00     18.00     0.00       0.00           1.00   \n",
       "25%         584.00     32.00     2.00       0.00           1.00   \n",
       "50%         652.00     37.00     5.00  97,198.54           1.00   \n",
       "75%         718.00     44.00     7.00 127,644.24           2.00   \n",
       "max         850.00     92.00    10.00 250,898.09           4.00   \n",
       "\n",
       "       EstimatedSalary  \n",
       "count        10,000.00  \n",
       "mean        100,090.24  \n",
       "std          57,510.49  \n",
       "min              11.58  \n",
       "25%          51,002.11  \n",
       "50%         100,193.91  \n",
       "75%         149,388.25  \n",
       "max         199,992.48  "
      ]
     },
     "execution_count": 5,
     "metadata": {},
     "output_type": "execute_result"
    }
   ],
   "source": [
    "# Define numerical data columns\n",
    "columns_num = ['CreditScore', 'Age', 'Tenure', \n",
    "               'Balance', 'NumOfProducts', 'EstimatedSalary']\n",
    "\n",
    "# Generate descriptive statistics for numerical data\n",
    "df[columns_num].describe()"
   ]
  },
  {
   "cell_type": "markdown",
   "metadata": {},
   "source": [
    "Отметим, следующее: \n",
    "\n",
    "- Довольно много (минимум 25%) счетов имеют нулевой баланс; \n",
    "- Мы не знаем в чем, и за какой период измерена \"предполагаемая зарплата\", но судя по странам проживания (см. 10 случайных строк таблицы выше) можем предположить, что зарплата указана в евро и вероятно за год (судя по суммам). В этом случае удивляет размер минимальной зарплаты, да и максимальная не очень высока. В последнем случае возможно, что клиенты с более высокой зарплатой обслуживаются в отделе *private banking*, и данные по ним не включены в выборку (хотя стоит отметить, что для обслуживания в *private banking* большее значение имеет остаток по счету). Но размер минимальной зарплаты это явно аномалия. Также отметим, что определение \"предполагаемая\" тоже не до конца понятно;\n",
    "- Количество лет обслуживания ограничено 10 годами, возможно банк был создан относительно недавно, или опять же выборка ограничена по каким-то причинам;\n",
    "- Количество продуктов имеет довольно ограниченный набор значений, поэтому возможно эту переменную стоит отнести к категориальным;\n",
    "- Вероятно данные распределены относительно симметрично за исключением баланса счета (левая асимметрия) и количества продуктов (правая асимметрия). \n",
    "\n",
    "Посмотрим категориальные признаки:"
   ]
  },
  {
   "cell_type": "code",
   "execution_count": 6,
   "metadata": {},
   "outputs": [
    {
     "data": {
      "text/html": [
       "<div>\n",
       "<style scoped>\n",
       "    .dataframe tbody tr th:only-of-type {\n",
       "        vertical-align: middle;\n",
       "    }\n",
       "\n",
       "    .dataframe tbody tr th {\n",
       "        vertical-align: top;\n",
       "    }\n",
       "\n",
       "    .dataframe thead th {\n",
       "        text-align: right;\n",
       "    }\n",
       "</style>\n",
       "<table border=\"1\" class=\"dataframe\">\n",
       "  <thead>\n",
       "    <tr style=\"text-align: right;\">\n",
       "      <th></th>\n",
       "      <th>CustomerId</th>\n",
       "      <th>Surname</th>\n",
       "      <th>Geography</th>\n",
       "      <th>Gender</th>\n",
       "      <th>HasCrCard</th>\n",
       "      <th>IsActiveMember</th>\n",
       "      <th>Exited</th>\n",
       "    </tr>\n",
       "  </thead>\n",
       "  <tbody>\n",
       "    <tr>\n",
       "      <th>count</th>\n",
       "      <td>10000</td>\n",
       "      <td>10000</td>\n",
       "      <td>10000</td>\n",
       "      <td>10000</td>\n",
       "      <td>10000</td>\n",
       "      <td>10000</td>\n",
       "      <td>10000</td>\n",
       "    </tr>\n",
       "    <tr>\n",
       "      <th>unique</th>\n",
       "      <td>10000</td>\n",
       "      <td>2932</td>\n",
       "      <td>3</td>\n",
       "      <td>2</td>\n",
       "      <td>2</td>\n",
       "      <td>2</td>\n",
       "      <td>2</td>\n",
       "    </tr>\n",
       "    <tr>\n",
       "      <th>top</th>\n",
       "      <td>15565701</td>\n",
       "      <td>Smith</td>\n",
       "      <td>France</td>\n",
       "      <td>Male</td>\n",
       "      <td>1</td>\n",
       "      <td>1</td>\n",
       "      <td>0</td>\n",
       "    </tr>\n",
       "    <tr>\n",
       "      <th>freq</th>\n",
       "      <td>1</td>\n",
       "      <td>32</td>\n",
       "      <td>5014</td>\n",
       "      <td>5457</td>\n",
       "      <td>7055</td>\n",
       "      <td>5151</td>\n",
       "      <td>7963</td>\n",
       "    </tr>\n",
       "  </tbody>\n",
       "</table>\n",
       "</div>"
      ],
      "text/plain": [
       "        CustomerId Surname Geography Gender  HasCrCard  IsActiveMember  Exited\n",
       "count        10000   10000     10000  10000      10000           10000   10000\n",
       "unique       10000    2932         3      2          2               2       2\n",
       "top       15565701   Smith    France   Male          1               1       0\n",
       "freq             1      32      5014   5457       7055            5151    7963"
      ]
     },
     "execution_count": 6,
     "metadata": {},
     "output_type": "execute_result"
    }
   ],
   "source": [
    "# Define categorical data columns\n",
    "columns_cat = ['CustomerId', 'Surname', 'Geography', \n",
    "               'Gender', 'HasCrCard', 'IsActiveMember', 'Exited']\n",
    "\n",
    "# Generate descriptive statistics for categorical data\n",
    "df[columns_cat].astype('category').describe()"
   ]
  },
  {
   "cell_type": "markdown",
   "metadata": {},
   "source": [
    "Отметим следующее:\n",
    "\n",
    "- Все номера клиентов уникальны, то есть как минимум явных дубликатов в данных нет;\n",
    "- География ограничивается 3 странами, и поскольку мы видели их все в таблице с 10 случайными строками, наше предположение о валюте зарплат скорее всего верно;\n",
    "- Классы целевого признака несбалансированы - доля покинувших банк (класс `'1'`) около 20%. К сожалению для банка нельзя сказать, что дисбаланс очень серьезный, однако мы проверим, как он сказывается на качестве модели.\n",
    "\n",
    "Наличие выбросов также может повлиять на качество модели, поэтому посмотрим на диаграммы размаха для количественных признаков: "
   ]
  },
  {
   "cell_type": "code",
   "execution_count": 7,
   "metadata": {},
   "outputs": [
    {
     "data": {
      "image/png": "[encoded data removed]",
      "text/plain": [
       "<Figure size 1080x720 with 6 Axes>"
      ]
     },
     "metadata": {
      "needs_background": "light"
     },
     "output_type": "display_data"
    }
   ],
   "source": [
    "# Plot boxplots for selected columns (by exit category) \n",
    "plt.figure(figsize=(15, 10))\n",
    "for index, column in enumerate(columns_num):\n",
    "    ax = plt.subplot(2, 3, index + 1)   \n",
    "    df.boxplot(column=column, by='Exited', ax=ax)\n",
    "    plt.xlabel('Exited')    \n",
    "    plt.xticks([1, 2], ['No', 'Yes'])\n",
    "plt.suptitle('Boxplots grouped by exit category', fontsize=16)\n",
    "plt.tight_layout()\n",
    "plt.show()"
   ]
  },
  {
   "cell_type": "markdown",
   "metadata": {},
   "source": [
    "Да, похоже нелегко будет и банку и модели. Банку потому, что уходят клиенты с бóльшим медианным балансом и зарплатой, а модели потому, что \"нормальные\" значения большинства количественных признаков одного класса \"перекрывают\" соответствующие значения другого класса, да и медианные значения довольно близко (кроме возраста и баланса). Также отметим, что только кредитный рейтинг, возраст и количество продуктов имеют выбросы и при этом, значения выбросов не являются аномальными. \n",
    "\n",
    "Посмотрим на гистограммы распределения:"
   ]
  },
  {
   "cell_type": "code",
   "execution_count": 8,
   "metadata": {},
   "outputs": [
    {
     "data": {
      "image/png": "[encoded data removed]",
      "text/plain": [
       "<Figure size 1080x720 with 6 Axes>"
      ]
     },
     "metadata": {
      "needs_background": "light"
     },
     "output_type": "display_data"
    }
   ],
   "source": [
    "# Plot histograms for selected columns (by exit category) \n",
    "plt.figure(figsize=(15, 10))\n",
    "for index, column in enumerate(columns_num):\n",
    "    plt.subplot(2, 3, index + 1)\n",
    "    plt.hist(df.query('Exited == 0')[column], \n",
    "             bins=[25, 25, 11, 25, [1, 2, 3, 4, 5], 15][index], \n",
    "             label='Stayed', alpha=0.7)\n",
    "    plt.hist(df.query('Exited == 1')[column], \n",
    "             bins=[25, 25, 11, 25, [1, 2, 3, 4, 5], 15][index], \n",
    "             label='Exited', alpha=0.5)\n",
    "    plt.legend()\n",
    "    plt.title(column)\n",
    "plt.suptitle('Histograms grouped by exit category', fontsize=16)\n",
    "plt.tight_layout()\n",
    "plt.show()"
   ]
  },
  {
   "cell_type": "markdown",
   "metadata": {},
   "source": [
    "Наиболее близки к \"нормальному\" распределения кредитного рейтинга, возраста и баланса счета. При этом, распределение возраста имеет удлиненный правый хвост, а распределения кредитного рейтинга и баланса счета дополнительные значительные пики в районе максимального и минимального значений соответственно. Распределения зарплаты и количества лет обслуживания скорее близки к равномерному. При этом, у распределения количества лет обслуживания наблюдаются \"провалы\" в районе минимального и максимального значения (возможно это может быть связано с пропусками). Также удивляет форма распределения зарплаты, мы скорее ожидали увидеть что-то более близкое к \"нормальному\" распределению. И наконец распределение количества продуктов скорее ближе к распределению Пуассона. Однако, отметим, что для моделей классификации, которые мы будем применять в дальнейшем, \"нормальность\" распределения не является обязательным условием. Также отметим, что только распределения возраста и количества продуктов визуально отличаются (по средним и дисперсии), поэтому вероятно, что они будут довольно важны для классификации.       \n",
    "\n",
    "В заключение проверим количественные признаки на мультиколлинеарность: "
   ]
  },
  {
   "cell_type": "code",
   "execution_count": 9,
   "metadata": {},
   "outputs": [
    {
     "data": {
      "text/html": [
       "<div>\n",
       "<style scoped>\n",
       "    .dataframe tbody tr th:only-of-type {\n",
       "        vertical-align: middle;\n",
       "    }\n",
       "\n",
       "    .dataframe tbody tr th {\n",
       "        vertical-align: top;\n",
       "    }\n",
       "\n",
       "    .dataframe thead th {\n",
       "        text-align: right;\n",
       "    }\n",
       "</style>\n",
       "<table border=\"1\" class=\"dataframe\">\n",
       "  <thead>\n",
       "    <tr style=\"text-align: right;\">\n",
       "      <th></th>\n",
       "      <th>CreditScore</th>\n",
       "      <th>Age</th>\n",
       "      <th>Tenure</th>\n",
       "      <th>Balance</th>\n",
       "      <th>NumOfProducts</th>\n",
       "      <th>EstimatedSalary</th>\n",
       "    </tr>\n",
       "  </thead>\n",
       "  <tbody>\n",
       "    <tr>\n",
       "      <th>CreditScore</th>\n",
       "      <td>1.00</td>\n",
       "      <td>-0.00</td>\n",
       "      <td>-0.00</td>\n",
       "      <td>0.01</td>\n",
       "      <td>0.01</td>\n",
       "      <td>-0.00</td>\n",
       "    </tr>\n",
       "    <tr>\n",
       "      <th>Age</th>\n",
       "      <td>-0.00</td>\n",
       "      <td>1.00</td>\n",
       "      <td>-0.01</td>\n",
       "      <td>0.03</td>\n",
       "      <td>-0.03</td>\n",
       "      <td>-0.01</td>\n",
       "    </tr>\n",
       "    <tr>\n",
       "      <th>Tenure</th>\n",
       "      <td>-0.00</td>\n",
       "      <td>-0.01</td>\n",
       "      <td>1.00</td>\n",
       "      <td>-0.01</td>\n",
       "      <td>0.01</td>\n",
       "      <td>0.01</td>\n",
       "    </tr>\n",
       "    <tr>\n",
       "      <th>Balance</th>\n",
       "      <td>0.01</td>\n",
       "      <td>0.03</td>\n",
       "      <td>-0.01</td>\n",
       "      <td>1.00</td>\n",
       "      <td>-0.30</td>\n",
       "      <td>0.01</td>\n",
       "    </tr>\n",
       "    <tr>\n",
       "      <th>NumOfProducts</th>\n",
       "      <td>0.01</td>\n",
       "      <td>-0.03</td>\n",
       "      <td>0.01</td>\n",
       "      <td>-0.30</td>\n",
       "      <td>1.00</td>\n",
       "      <td>0.01</td>\n",
       "    </tr>\n",
       "    <tr>\n",
       "      <th>EstimatedSalary</th>\n",
       "      <td>-0.00</td>\n",
       "      <td>-0.01</td>\n",
       "      <td>0.01</td>\n",
       "      <td>0.01</td>\n",
       "      <td>0.01</td>\n",
       "      <td>1.00</td>\n",
       "    </tr>\n",
       "  </tbody>\n",
       "</table>\n",
       "</div>"
      ],
      "text/plain": [
       "                 CreditScore   Age  Tenure  Balance  NumOfProducts  \\\n",
       "CreditScore             1.00 -0.00   -0.00     0.01           0.01   \n",
       "Age                    -0.00  1.00   -0.01     0.03          -0.03   \n",
       "Tenure                 -0.00 -0.01    1.00    -0.01           0.01   \n",
       "Balance                 0.01  0.03   -0.01     1.00          -0.30   \n",
       "NumOfProducts           0.01 -0.03    0.01    -0.30           1.00   \n",
       "EstimatedSalary        -0.00 -0.01    0.01     0.01           0.01   \n",
       "\n",
       "                 EstimatedSalary  \n",
       "CreditScore                -0.00  \n",
       "Age                        -0.01  \n",
       "Tenure                      0.01  \n",
       "Balance                     0.01  \n",
       "NumOfProducts               0.01  \n",
       "EstimatedSalary             1.00  "
      ]
     },
     "execution_count": 9,
     "metadata": {},
     "output_type": "execute_result"
    }
   ],
   "source": [
    "# Calculate Pearson correlation for selected columns\n",
    "df[columns_num].corr()"
   ]
  },
  {
   "cell_type": "markdown",
   "metadata": {},
   "source": [
    "Коэффициенты корреляции низкие, соответственно мультиколлинеарность нам не грозит. "
   ]
  },
  {
   "cell_type": "markdown",
   "metadata": {},
   "source": [
    "### 1.1 Выводы"
   ]
  },
  {
   "cell_type": "markdown",
   "metadata": {},
   "source": [
    "Для целей проекта мы будем использовать количественные и категориальные данные о 10 тыс. клиентов (независимые переменные) и расторжении ими договоров с банком (зависимая переменная). По нашей оценке данных достаточно для целей обучения модели. При этом отметим, что:\n",
    "\n",
    "- В данных есть пропущенные значения\n",
    "- Также возможно, что в данных есть аномальные значения\n",
    "- Классы целевого признака несбалансированы \n",
    "- В некоторых независимых переменных есть выбросы\n",
    "- При этом, сильной корреляции между независимыми переменными (мультиколлинеарность) мы не обнаружили \n",
    "\n",
    "С учетом вышесказанного перед тем, как перейти к выбору и обучению модели, нам необходимо предобработать данные. "
   ]
  },
  {
   "cell_type": "markdown",
   "metadata": {},
   "source": [
    "## 2. Предобработка данных "
   ]
  },
  {
   "cell_type": "markdown",
   "metadata": {},
   "source": [
    "### 2.1 Поиск и удаление дубликатов"
   ]
  },
  {
   "cell_type": "markdown",
   "metadata": {},
   "source": [
    "Как мы отметили в предыдущем разделе, явных дубликатов в данных нет - все идентификационные номера уникальны. Однако, можно предположить, что одному и тому же клиенту могут присвоить разные номера, например, при переходе на обслуживание в другое отделение. Поэтому поищем скрытые дубликаты. Сначала приведем все фамилии к нижнему регистру и уберем наиболее часто встречающиеся знаки пунктуации и пробелы из начала и конца строки: "
   ]
  },
  {
   "cell_type": "code",
   "execution_count": 10,
   "metadata": {},
   "outputs": [],
   "source": [
    "# Convert 'Surname' to lower case \n",
    "# and strip leading/trailing whitespaces & certain characters \n",
    "df['Surname'] = df['Surname'].str.lower().str.strip('.!? \\s')"
   ]
  },
  {
   "cell_type": "markdown",
   "metadata": {},
   "source": [
    "Теперь посмотрим сколько потенциальных дубликатов есть если сравнивать только по основным характеристикам клиента:"
   ]
  },
  {
   "cell_type": "code",
   "execution_count": 11,
   "metadata": {},
   "outputs": [
    {
     "data": {
      "text/plain": [
       "244"
      ]
     },
     "execution_count": 11,
     "metadata": {},
     "output_type": "execute_result"
    }
   ],
   "source": [
    "# Count duplicated clients by selected columns\n",
    "df.duplicated(subset=['Surname', 'Geography', 'Gender', 'Age']).sum()"
   ]
  },
  {
   "cell_type": "markdown",
   "metadata": {},
   "source": [
    "Около 2.5% данных, в принципе не очень много. Выведем несколько потенциальных дубликатов на экран:"
   ]
  },
  {
   "cell_type": "code",
   "execution_count": 12,
   "metadata": {},
   "outputs": [
    {
     "data": {
      "text/html": [
       "<div>\n",
       "<style scoped>\n",
       "    .dataframe tbody tr th:only-of-type {\n",
       "        vertical-align: middle;\n",
       "    }\n",
       "\n",
       "    .dataframe tbody tr th {\n",
       "        vertical-align: top;\n",
       "    }\n",
       "\n",
       "    .dataframe thead th {\n",
       "        text-align: right;\n",
       "    }\n",
       "</style>\n",
       "<table border=\"1\" class=\"dataframe\">\n",
       "  <thead>\n",
       "    <tr style=\"text-align: right;\">\n",
       "      <th></th>\n",
       "      <th>CustomerId</th>\n",
       "      <th>Surname</th>\n",
       "      <th>CreditScore</th>\n",
       "      <th>Geography</th>\n",
       "      <th>Gender</th>\n",
       "      <th>Age</th>\n",
       "      <th>Tenure</th>\n",
       "      <th>Balance</th>\n",
       "      <th>NumOfProducts</th>\n",
       "      <th>HasCrCard</th>\n",
       "      <th>IsActiveMember</th>\n",
       "      <th>EstimatedSalary</th>\n",
       "      <th>Exited</th>\n",
       "    </tr>\n",
       "  </thead>\n",
       "  <tbody>\n",
       "    <tr>\n",
       "      <th>8927</th>\n",
       "      <td>15709136</td>\n",
       "      <td>adam</td>\n",
       "      <td>620</td>\n",
       "      <td>France</td>\n",
       "      <td>Male</td>\n",
       "      <td>28</td>\n",
       "      <td>8.00</td>\n",
       "      <td>0.00</td>\n",
       "      <td>2</td>\n",
       "      <td>1</td>\n",
       "      <td>1</td>\n",
       "      <td>199,909.32</td>\n",
       "      <td>0</td>\n",
       "    </tr>\n",
       "    <tr>\n",
       "      <th>3467</th>\n",
       "      <td>15631339</td>\n",
       "      <td>adam</td>\n",
       "      <td>791</td>\n",
       "      <td>France</td>\n",
       "      <td>Male</td>\n",
       "      <td>28</td>\n",
       "      <td>4.00</td>\n",
       "      <td>0.00</td>\n",
       "      <td>1</td>\n",
       "      <td>1</td>\n",
       "      <td>0</td>\n",
       "      <td>174,435.48</td>\n",
       "      <td>0</td>\n",
       "    </tr>\n",
       "    <tr>\n",
       "      <th>8826</th>\n",
       "      <td>15797081</td>\n",
       "      <td>ajuluchukwu</td>\n",
       "      <td>611</td>\n",
       "      <td>Germany</td>\n",
       "      <td>Female</td>\n",
       "      <td>49</td>\n",
       "      <td>9.00</td>\n",
       "      <td>115,488.52</td>\n",
       "      <td>2</td>\n",
       "      <td>1</td>\n",
       "      <td>1</td>\n",
       "      <td>138,656.81</td>\n",
       "      <td>1</td>\n",
       "    </tr>\n",
       "    <tr>\n",
       "      <th>9784</th>\n",
       "      <td>15680430</td>\n",
       "      <td>ajuluchukwu</td>\n",
       "      <td>601</td>\n",
       "      <td>Germany</td>\n",
       "      <td>Female</td>\n",
       "      <td>49</td>\n",
       "      <td>4.00</td>\n",
       "      <td>96,252.98</td>\n",
       "      <td>2</td>\n",
       "      <td>1</td>\n",
       "      <td>0</td>\n",
       "      <td>104,263.82</td>\n",
       "      <td>0</td>\n",
       "    </tr>\n",
       "    <tr>\n",
       "      <th>3844</th>\n",
       "      <td>15677804</td>\n",
       "      <td>aliyeva</td>\n",
       "      <td>783</td>\n",
       "      <td>Spain</td>\n",
       "      <td>Male</td>\n",
       "      <td>38</td>\n",
       "      <td>1.00</td>\n",
       "      <td>0.00</td>\n",
       "      <td>3</td>\n",
       "      <td>1</td>\n",
       "      <td>1</td>\n",
       "      <td>80,178.54</td>\n",
       "      <td>1</td>\n",
       "    </tr>\n",
       "    <tr>\n",
       "      <th>1853</th>\n",
       "      <td>15573741</td>\n",
       "      <td>aliyeva</td>\n",
       "      <td>698</td>\n",
       "      <td>Spain</td>\n",
       "      <td>Male</td>\n",
       "      <td>38</td>\n",
       "      <td>10.00</td>\n",
       "      <td>95,010.92</td>\n",
       "      <td>1</td>\n",
       "      <td>1</td>\n",
       "      <td>1</td>\n",
       "      <td>105,227.86</td>\n",
       "      <td>0</td>\n",
       "    </tr>\n",
       "    <tr>\n",
       "      <th>6049</th>\n",
       "      <td>15676433</td>\n",
       "      <td>allan</td>\n",
       "      <td>707</td>\n",
       "      <td>France</td>\n",
       "      <td>Female</td>\n",
       "      <td>36</td>\n",
       "      <td>6.00</td>\n",
       "      <td>0.00</td>\n",
       "      <td>1</td>\n",
       "      <td>0</td>\n",
       "      <td>0</td>\n",
       "      <td>98,810.78</td>\n",
       "      <td>0</td>\n",
       "    </tr>\n",
       "    <tr>\n",
       "      <th>3243</th>\n",
       "      <td>15729908</td>\n",
       "      <td>allan</td>\n",
       "      <td>411</td>\n",
       "      <td>France</td>\n",
       "      <td>Female</td>\n",
       "      <td>36</td>\n",
       "      <td>10.00</td>\n",
       "      <td>0.00</td>\n",
       "      <td>1</td>\n",
       "      <td>0</td>\n",
       "      <td>0</td>\n",
       "      <td>120,694.35</td>\n",
       "      <td>0</td>\n",
       "    </tr>\n",
       "    <tr>\n",
       "      <th>4539</th>\n",
       "      <td>15676835</td>\n",
       "      <td>anayolisa</td>\n",
       "      <td>710</td>\n",
       "      <td>Spain</td>\n",
       "      <td>Male</td>\n",
       "      <td>33</td>\n",
       "      <td>1.00</td>\n",
       "      <td>0.00</td>\n",
       "      <td>2</td>\n",
       "      <td>1</td>\n",
       "      <td>0</td>\n",
       "      <td>168,313.17</td>\n",
       "      <td>0</td>\n",
       "    </tr>\n",
       "    <tr>\n",
       "      <th>8841</th>\n",
       "      <td>15646969</td>\n",
       "      <td>anayolisa</td>\n",
       "      <td>776</td>\n",
       "      <td>Spain</td>\n",
       "      <td>Male</td>\n",
       "      <td>33</td>\n",
       "      <td>2.00</td>\n",
       "      <td>0.00</td>\n",
       "      <td>2</td>\n",
       "      <td>1</td>\n",
       "      <td>1</td>\n",
       "      <td>176,921.00</td>\n",
       "      <td>0</td>\n",
       "    </tr>\n",
       "  </tbody>\n",
       "</table>\n",
       "</div>"
      ],
      "text/plain": [
       "      CustomerId      Surname  CreditScore Geography  Gender  Age  Tenure  \\\n",
       "8927    15709136         adam          620    France    Male   28    8.00   \n",
       "3467    15631339         adam          791    France    Male   28    4.00   \n",
       "8826    15797081  ajuluchukwu          611   Germany  Female   49    9.00   \n",
       "9784    15680430  ajuluchukwu          601   Germany  Female   49    4.00   \n",
       "3844    15677804      aliyeva          783     Spain    Male   38    1.00   \n",
       "1853    15573741      aliyeva          698     Spain    Male   38   10.00   \n",
       "6049    15676433        allan          707    France  Female   36    6.00   \n",
       "3243    15729908        allan          411    France  Female   36   10.00   \n",
       "4539    15676835    anayolisa          710     Spain    Male   33    1.00   \n",
       "8841    15646969    anayolisa          776     Spain    Male   33    2.00   \n",
       "\n",
       "        Balance  NumOfProducts  HasCrCard  IsActiveMember  EstimatedSalary  \\\n",
       "8927       0.00              2          1               1       199,909.32   \n",
       "3467       0.00              1          1               0       174,435.48   \n",
       "8826 115,488.52              2          1               1       138,656.81   \n",
       "9784  96,252.98              2          1               0       104,263.82   \n",
       "3844       0.00              3          1               1        80,178.54   \n",
       "1853  95,010.92              1          1               1       105,227.86   \n",
       "6049       0.00              1          0               0        98,810.78   \n",
       "3243       0.00              1          0               0       120,694.35   \n",
       "4539       0.00              2          1               0       168,313.17   \n",
       "8841       0.00              2          1               1       176,921.00   \n",
       "\n",
       "      Exited  \n",
       "8927       0  \n",
       "3467       0  \n",
       "8826       1  \n",
       "9784       0  \n",
       "3844       1  \n",
       "1853       0  \n",
       "6049       0  \n",
       "3243       0  \n",
       "4539       0  \n",
       "8841       0  "
      ]
     },
     "execution_count": 12,
     "metadata": {},
     "output_type": "execute_result"
    }
   ],
   "source": [
    "# Show first 10 rows of sorted duplicates by selected columns\n",
    "df[df[['Surname', 'Geography', 'Gender', 'Age']]\n",
    "   .duplicated(keep=False)].sort_values(by=['Surname']).head(10)"
   ]
  },
  {
   "cell_type": "markdown",
   "metadata": {},
   "source": [
    "Интересно, какая вероятность, что в Германии проживает две женщины в возрасте 49 лет, ноcящих фамилию *Ajuluchukwu* (и обслуживающихся в одном, вероятно не очень большом, банке). Похоже, что дубликаты все-таки есть. Остальные признаки конечно отличаются, но это может быть связано с тем, что они отображают состояние на разные даты. Однако, перед тем, как удалить эти \"дубликаты\" посмотрим сколько \"ушедших\" мы удалим:   "
   ]
  },
  {
   "cell_type": "code",
   "execution_count": 13,
   "metadata": {},
   "outputs": [
    {
     "data": {
      "text/plain": [
       "33"
      ]
     },
     "execution_count": 13,
     "metadata": {},
     "output_type": "execute_result"
    }
   ],
   "source": [
    "# Count duplicates (all) who exited\n",
    "df.loc[(df.duplicated(subset=['Surname', 'Geography', 'Gender', 'Age'])) \n",
    "       & (df['Exited'] == 1), 'CustomerId'].count()"
   ]
  },
  {
   "cell_type": "markdown",
   "metadata": {},
   "source": [
    "Около 1.5%, что приемлемо, поэтому удалим \"дубликаты\":"
   ]
  },
  {
   "cell_type": "code",
   "execution_count": 14,
   "metadata": {},
   "outputs": [],
   "source": [
    "# Drop duplicates\n",
    "df = df.drop_duplicates(subset=['Surname', 'Geography', 'Gender', 'Age'])"
   ]
  },
  {
   "cell_type": "markdown",
   "metadata": {},
   "source": [
    "### 2.2 Исправление аномалий "
   ]
  },
  {
   "cell_type": "markdown",
   "metadata": {},
   "source": [
    "В разделе 1 мы отметили очень низкий минимальный уровень зарплаты (предположительно годовой в евро). Предположим, что минимальный уровень зарплаты в рассматриваемых нами странах составляет около 1,000 евро в месяц. Посмотрим сколько клиентов получают меньше этого уровня:"
   ]
  },
  {
   "cell_type": "code",
   "execution_count": 15,
   "metadata": {},
   "outputs": [
    {
     "data": {
      "text/plain": [
       "585"
      ]
     },
     "execution_count": 15,
     "metadata": {},
     "output_type": "execute_result"
    }
   ],
   "source": [
    "# Count the number of clients with salary below 12k \n",
    "df.query('EstimatedSalary < 12000')['CustomerId'].count()"
   ]
  },
  {
   "cell_type": "markdown",
   "metadata": {},
   "source": [
    "Более 5%, довольно много. Теперь посмотрим, сколько таких среди ушедших:"
   ]
  },
  {
   "cell_type": "code",
   "execution_count": 16,
   "metadata": {},
   "outputs": [
    {
     "data": {
      "text/plain": [
       "112"
      ]
     },
     "execution_count": 16,
     "metadata": {},
     "output_type": "execute_result"
    }
   ],
   "source": [
    "# Count the number of exited clients with salary below 12k \n",
    "df.query('EstimatedSalary < 12000 and Exited == 1')['CustomerId'].count()"
   ]
  },
  {
   "cell_type": "markdown",
   "metadata": {},
   "source": [
    "Также более 5%. Это похоже на аномалию, возможно, где-то указаны зарплаты за месяц, а где-то есть просто ошибки / опечатки. Тем не менее, у нас нет данных для того чтобы исправить эту аномалию, а удалять 5% данных (особенно с учетом дисбаланса) не хотелось бы. Поэтому оставим зарплаты, как есть. "
   ]
  },
  {
   "cell_type": "markdown",
   "metadata": {},
   "source": [
    "### 2.3 Заполнение пропусков"
   ]
  },
  {
   "cell_type": "markdown",
   "metadata": {},
   "source": [
    "Как отмечалось выше единственный столбец, в котором есть пропуски - `Tenure`, но при этом пропущено около 10% данных. Посмотрим у скольких ушедших пропущено это значение:  "
   ]
  },
  {
   "cell_type": "code",
   "execution_count": 17,
   "metadata": {},
   "outputs": [
    {
     "data": {
      "text/plain": [
       "183"
      ]
     },
     "execution_count": 17,
     "metadata": {},
     "output_type": "execute_result"
    }
   ],
   "source": [
    "# Count the number of exited clients with missing Tenure data \n",
    "df.query('Tenure.isna() and Exited == 1')['CustomerId'].count()"
   ]
  },
  {
   "cell_type": "markdown",
   "metadata": {},
   "source": [
    "Также почти 10%, поэтому попробуем их заполнить. Но сначала посмотрим на гистограммы распределения признаков для наблюдений, в которых пропущен этот показатель. Если они будут очень сильно отличаться от гистограмм по всей выборке, то возможно это поможет нам понять в чем причина пропусков (и более правильно их заполнить):"
   ]
  },
  {
   "cell_type": "code",
   "execution_count": 18,
   "metadata": {},
   "outputs": [
    {
     "data": {
      "image/png": "[encoded data removed]",
      "text/plain": [
       "<Figure size 1080x720 with 5 Axes>"
      ]
     },
     "metadata": {
      "needs_background": "light"
     },
     "output_type": "display_data"
    }
   ],
   "source": [
    "# Plot histograms for selected columns (by exit category)\n",
    "# And with missing 'Tenure'\n",
    "plt.figure(figsize=(15, 10))\n",
    "gs = gridspec.GridSpec(2, 6)\n",
    "coord = [[0, 0, 2], [0, 2, 4], [0, 4, 6], [1, 1, 3], [1, 3, 5]]\n",
    "for index, column in enumerate(['CreditScore', 'Age', 'Balance', \n",
    "                                'NumOfProducts', 'EstimatedSalary']):    \n",
    "    plt.subplot(gs[coord[index][0], coord[index][1]:coord[index][2]])    \n",
    "    plt.hist(df.query('Exited == 0 and Tenure.isna()')[column], \n",
    "             bins=[25, 25, 25, [1, 2, 3, 4, 5], 15][index], \n",
    "             label='Stayed', alpha=0.7)\n",
    "    plt.hist(df.query('Exited == 1 and Tenure.isna()')[column], \n",
    "             bins=[25, 25, 25, [1, 2, 3, 4, 5], 15][index], \n",
    "             label='Exited', alpha=0.5)\n",
    "    plt.legend()\n",
    "    plt.title(column)    \n",
    "plt.suptitle('Histograms grouped by exit category', fontsize=16)\n",
    "plt.tight_layout()\n",
    "plt.show()"
   ]
  },
  {
   "cell_type": "markdown",
   "metadata": {},
   "source": [
    "Отличия конечно есть, но не существенные. Мы можем заполнить пропуски фиксированным значением, например, средним, однако распределение количества лет обслуживания довольно равномерное, поэтому сначала посмотрим, что из этого получится. Для заполнения пропусков применим `SimpleImputer` из `sklearn`:"
   ]
  },
  {
   "cell_type": "code",
   "execution_count": 19,
   "metadata": {},
   "outputs": [
    {
     "data": {
      "image/png": "[encoded data removed]",
      "text/plain": [
       "<Figure size 504x360 with 1 Axes>"
      ]
     },
     "metadata": {
      "needs_background": "light"
     },
     "output_type": "display_data"
    }
   ],
   "source": [
    "# Initialize imputer replacing missing values with 'mean'  \n",
    "imputer_mean = SimpleImputer(strategy='mean')\n",
    "\n",
    "# Plot imputed vs original histogram  \n",
    "plt.figure(figsize=(7, 5))\n",
    "plt.hist(pd.DataFrame(imputer_mean.fit_transform(df[columns_num]), \n",
    "                      columns=columns_num)['Tenure'], \n",
    "         bins=11, label='Imputed', histtype='step', alpha=0.7)\n",
    "plt.hist(df['Tenure'], bins=11, label='Original', histtype='step', \n",
    "         linewidth=1.5, alpha=0.5)\n",
    "plt.legend()\n",
    "plt.title('Tenure - Imputed (Mean) vs Original Histogram') \n",
    "plt.show()"
   ]
  },
  {
   "cell_type": "markdown",
   "metadata": {},
   "source": [
    "Выглядит не очень, да и характеристики распределения (дисперсию) мы скорее всего изменили. Поэтому попробуем другой способ - метод \"ближайших соседей\", который находит заданное количество наиболее похожих наблюдений (исходя из расстояния между признаками) и берет среднее значение уже по ним. Поскольку метод основан на \"расстоянии\", то сначала нам нужно масштабировать признаки. Для заполнения пропусков методом \"ближайших соседей\" применим `KNNImputer` из `sklearn`, а для масштабирования `StandardScaler` (стандартизация) из той же библиотеки:"
   ]
  },
  {
   "cell_type": "code",
   "execution_count": 20,
   "metadata": {},
   "outputs": [
    {
     "data": {
      "image/png": "[encoded data removed]",
      "text/plain": [
       "<Figure size 504x360 with 1 Axes>"
      ]
     },
     "metadata": {
      "needs_background": "light"
     },
     "output_type": "display_data"
    }
   ],
   "source": [
    "# Initialize KNN imputer \n",
    "imputer_knn = KNNImputer(n_neighbors=2)\n",
    "\n",
    "# Initilize scaler\n",
    "scaler = StandardScaler()\n",
    "\n",
    "# Plot imputed vs original histogram\n",
    "plt.figure(figsize=(7, 5))\n",
    "plt.hist(\n",
    "    pd.DataFrame(\n",
    "        scaler.inverse_transform(\n",
    "            imputer_knn.fit_transform(scaler.fit_transform(df[columns_num]))), \n",
    "        columns=columns_num)['Tenure'], \n",
    "    bins=11, label='Imputed', histtype='step', alpha=0.7)\n",
    "plt.hist(df['Tenure'], bins=11, label='Original', histtype='step', \n",
    "         linewidth=1.5, alpha=0.5)\n",
    "plt.legend()\n",
    "plt.title('Tenure - Imputed (KNN) vs Original Histogram') \n",
    "plt.show()"
   ]
  },
  {
   "cell_type": "markdown",
   "metadata": {},
   "source": [
    "Выглядит намного лучше. Однако, сразу заполнить пропуски мы не можем, так как данные у нас пока не разделены на обучающую и тестовую выборки, поэтому мы добавим их заполнение в \"пайплайн\" позже. Но в заключении добавим еще одну переменную, которая будет указывать было ли пропущено значение, вдруг пропуски все-таки не случайны:"
   ]
  },
  {
   "cell_type": "code",
   "execution_count": 21,
   "metadata": {},
   "outputs": [],
   "source": [
    "# Add column indicating whether Tenure is missed\n",
    "df['TenureNan'] = df['Tenure'].isna().astype(int)"
   ]
  },
  {
   "cell_type": "markdown",
   "metadata": {},
   "source": [
    "### 2.4 Прочие преобразования"
   ]
  },
  {
   "cell_type": "markdown",
   "metadata": {},
   "source": [
    "В этом разделе мы разделим нашу выборку на обучающую и тестовую и соберем \"пайплайн\" для предобработки, но сначала немного изменим разделение на количественные и категориальные признаки с учетом замечаний/изменений выше: "
   ]
  },
  {
   "cell_type": "code",
   "execution_count": 22,
   "metadata": {},
   "outputs": [],
   "source": [
    "# Re-split columns into categorical and numerical\n",
    "columns_cat = ['Geography', 'Gender', 'HasCrCard', 'IsActiveMember', \n",
    "               'TenureNan', 'NumOfProducts']\n",
    "columns_num = ['CreditScore', 'Age', 'Tenure', 'Balance', 'EstimatedSalary']"
   ]
  },
  {
   "cell_type": "markdown",
   "metadata": {},
   "source": [
    "Разделим признаки и целевой признак:"
   ]
  },
  {
   "cell_type": "code",
   "execution_count": 23,
   "metadata": {},
   "outputs": [],
   "source": [
    "# Extract features and target variable\n",
    "X = df[columns_cat + columns_num]\n",
    "y = df['Exited']"
   ]
  },
  {
   "cell_type": "markdown",
   "metadata": {},
   "source": [
    "Теперь разобьем нашу выборку на обучающую и тестовую, используя \"стратифицированное\" разделение. При этом, стратифицировать будем не только по целевому признаку, но и по количеству продуктов, используемых клиентом. Как отмечалось выше, похоже, что этот признак может быть важным, но основные отличия между классами проявляются в области с очень небольшим количеством наблюдений (см диаграммы распределения выше), поэтому желательно чтобы они присутствовали в равных пропорциях во всех выборках:      "
   ]
  },
  {
   "cell_type": "code",
   "execution_count": 24,
   "metadata": {},
   "outputs": [],
   "source": [
    "# Split dataset into train and test subsets\n",
    "X_train, X_test, y_train, y_test = train_test_split(X, y, \n",
    "                                                    test_size=.2, \n",
    "                                                    random_state=SEED_VALUE, \n",
    "                                                    stratify=y.astype(str) + \n",
    "                                                    X['NumOfProducts'].astype(str))"
   ]
  },
  {
   "cell_type": "markdown",
   "metadata": {},
   "source": [
    "Для поиска и определения лучших гиперпараметров мы будем использовать `GridSearchCV` с кросс-валидацией. Однако, один из методов, который мы хотим использовать для борьбы с дисбалансом - изменение порога классификации, не может быть применен в рамках `GridSearchCV` и потребует отдельной валидационной выборки. Таким образом, у нас по сути будет два этапа валидации, что немного расточительно, но на наш взгляд допустимо, учитывая размер выборки.\n",
    "\n",
    "С учетом вышесказанного, выделим валидационную выборку:"
   ]
  },
  {
   "cell_type": "code",
   "execution_count": 25,
   "metadata": {},
   "outputs": [],
   "source": [
    "# Split train dataset into train and validation subsets\n",
    "X_train, X_valid, y_train, y_valid = train_test_split(X_train, y_train, \n",
    "                                                      test_size=.25, \n",
    "                                                      random_state=SEED_VALUE, \n",
    "                                                      stratify=y_train.astype(str) \n",
    "                                                      + X_train['NumOfProducts'].astype(str))"
   ]
  },
  {
   "cell_type": "markdown",
   "metadata": {},
   "source": [
    "Проверим, что получилось: "
   ]
  },
  {
   "cell_type": "code",
   "execution_count": 26,
   "metadata": {},
   "outputs": [
    {
     "name": "stdout",
     "output_type": "stream",
     "text": [
      "Train: (5853, 11), (5853,)\n",
      "Validation: (1951, 11), (1951,)\n",
      "Test: (1952, 11), (1952,)\n"
     ]
    }
   ],
   "source": [
    "# Print subsets shapes\n",
    "print(f\"Train: {X_train.shape}, {y_train.shape}\")\n",
    "print(f\"Validation: {X_valid.shape}, {y_valid.shape}\")\n",
    "print(f\"Test: {X_test.shape}, {y_test.shape}\")"
   ]
  },
  {
   "cell_type": "markdown",
   "metadata": {},
   "source": [
    "Похоже все разделилось правильно.\n",
    "\n",
    "Теперь напишем функцию для еще одного метода борьбы с дисбалансом - увеличения \"миноритарного\" класса / уменьшения \"мажоритарного\" класса. При этом, отметим, что библиотека `imblearn`, которую мы будем использовать для создания \"пайплайна\" содержит соответствующие функции, однако, мы напишем свою - во-первых, в целях обучения, а во-вторых, она позволит нам легко сравнить эффективность увеличения и уменьшения классов в рамках `GridSearch`. Также отметим, что библиотека `sklearn` не позволяет использовать данный метод \"исправления\" дисбаланса в рамках \"пайплайна\", а заранее исправить дисбаланс при кросс-валидации мы не можем (при увеличении класса будет \"утечка\" данных из валидационной выборки, а при уменьшении - валидационная выборка будет сбалансирована, что исказит результат по сравнению с тестовой выборкой). \n",
    "\n",
    "Итак, напишем функцию:  "
   ]
  },
  {
   "cell_type": "code",
   "execution_count": 27,
   "metadata": {},
   "outputs": [],
   "source": [
    "# Define up-/downsampling function\n",
    "def x_sample(X, y, kind='up', classes=(0, 1)):\n",
    "    # Breakdown classes\n",
    "    X_major = X[y == classes[0]]    \n",
    "    X_minor = X[y == classes[1]]\n",
    "    y_major = y[y == classes[0]]\n",
    "    y_minor = y[y == classes[1]]\n",
    "    \n",
    "    # Upsample minority class \n",
    "    # and concatenate with majority class\n",
    "    if kind == 'up':\n",
    "        n = round(len(y_major) / len(y_minor))        \n",
    "        X_resampled = pd.concat([X_major] + [X_minor] * n)\n",
    "        y_resampled = pd.concat([y_major] + [y_minor] * n)    \n",
    "    # Downsample majority class \n",
    "    # and concatenate with minority class\n",
    "    elif kind == 'down':\n",
    "        n = len(y_minor)\n",
    "        X_resampled = pd.concat(\n",
    "            [resample(X_major, n_samples=n, replace=False, \n",
    "             random_state=SEED_VALUE)] + [X_minor])\n",
    "        y_resampled = pd.concat(\n",
    "            [resample(y_major, n_samples=n, replace=False, \n",
    "             random_state=SEED_VALUE)] + [y_minor])    \n",
    "    # Raise error if 'kind' is misspecified\n",
    "    else:\n",
    "        raise ValueError('Kind should be set to up or down')    \n",
    "    \n",
    "    # Shuffle resampled data\n",
    "    X_resampled, y_resampled = shuffle(X_resampled, y_resampled, \n",
    "                                       random_state=SEED_VALUE)\n",
    "    \n",
    "    return X_resampled, y_resampled"
   ]
  },
  {
   "cell_type": "markdown",
   "metadata": {},
   "source": [
    "Для того чтобы мы могли использовать собственную функцию в рамках \"пайплайна\" используем класс `FunctionSampler` из `imblearn`:"
   ]
  },
  {
   "cell_type": "code",
   "execution_count": 28,
   "metadata": {},
   "outputs": [],
   "source": [
    "# Create resampler for the main pipeline\n",
    "resampler = FunctionSampler(func=x_sample, kw_args={'kind':'up'}, validate=False)"
   ]
  },
  {
   "cell_type": "markdown",
   "metadata": {},
   "source": [
    "Теперь соберем отдельные \"пайплайны\" для предобработки количественных и категориальных признаков. Отметим, что по причинам указанным в предыдущем разделе при обработке количественных признаков, мы сначала используем стандартизацию, и только затем заполняем пропуски (обычно порядок обратный, так как заполнение пропусков может привести к изменению стандартного отклонения). Категориальные признаки переводим в \"дамми\" переменные, выкидывая первую получившуюся переменную, чтобы избежать \"дамми\" ловушки: "
   ]
  },
  {
   "cell_type": "code",
   "execution_count": 29,
   "metadata": {},
   "outputs": [],
   "source": [
    "# Create preprocessing pipeline for numerical values\n",
    "pipeline_num = Pipeline([('scaler', StandardScaler()),\n",
    "                         ('imputer', KNNImputer(n_neighbors=2))])                         \n",
    "\n",
    "# Create preprocessing pipeline for categorical values\n",
    "pipeline_cat = Pipeline([('encoder', OneHotEncoder(drop='first', sparse=False))])"
   ]
  },
  {
   "cell_type": "markdown",
   "metadata": {},
   "source": [
    "И наконец соберем модуль для предобработки признаков, используя класс `ColumnTransformer` (из `sklearn`), который позволяет параллельно обрабатывать отдельные признаки (столбцы):"
   ]
  },
  {
   "cell_type": "code",
   "execution_count": 30,
   "metadata": {},
   "outputs": [],
   "source": [
    "# Put preprocessing pipelines together\n",
    "preprocessor = ColumnTransformer([('pipeline_num', pipeline_num, columns_num),\n",
    "                                  ('pipeline_cat', pipeline_cat, columns_cat)])"
   ]
  },
  {
   "cell_type": "markdown",
   "metadata": {},
   "source": [
    "## 3. Выбор модели"
   ]
  },
  {
   "cell_type": "markdown",
   "metadata": {
    "tags": []
   },
   "source": [
    "### 3.1 Выбор модели без учета дисбаланса классов"
   ]
  },
  {
   "cell_type": "markdown",
   "metadata": {},
   "source": [
    "#### 3.1.1 Логистическая регрессия"
   ]
  },
  {
   "cell_type": "markdown",
   "metadata": {},
   "source": [
    "Поиск лучшей модели начнем с логистической регрессии без учета дисбаланса классов. Но сначала, еще раз посмотрим на соотношение классов целевого признака (соотношение классов будет одинаковым во всех выборках, так как мы использовали \"стратифицированное\" разделение, см. выше). Это позволит нам оценить \"адекватность\" получаемых моделей с учетом дисбаланса:"
   ]
  },
  {
   "cell_type": "code",
   "execution_count": 31,
   "metadata": {},
   "outputs": [
    {
     "data": {
      "text/plain": [
       "0   0.79\n",
       "1   0.21\n",
       "Name: Exited, dtype: float64"
      ]
     },
     "execution_count": 31,
     "metadata": {},
     "output_type": "execute_result"
    }
   ],
   "source": [
    "# Show class distribution in validation set\n",
    "y_train.value_counts(normalize=True)"
   ]
  },
  {
   "cell_type": "markdown",
   "metadata": {},
   "source": [
    "Итак, предсказывая все время класс \"0\", мы будем правы в 79% случаев. \n",
    "\n",
    "Зададим количество частей на которые будет разбиваться обучающая выборка для кросс-валидации (5 частей), а также целевую метрику (F1):"
   ]
  },
  {
   "cell_type": "code",
   "execution_count": 32,
   "metadata": {},
   "outputs": [],
   "source": [
    "# Set the number of cv folds\n",
    "# And target metrics\n",
    "cv = 5\n",
    "scoring = 'f1'"
   ]
  },
  {
   "cell_type": "markdown",
   "metadata": {},
   "source": [
    "Отметим, что `GridSearchCV` по умолчанию  использует \"стратифицированное\" разделение (по целевому признаку) для кросс-валидации.\n",
    "\n",
    "В случае логистической регрессии единственным гиперпараметром, который мы попробуем перебрать является значение коэффициента регуляризации типа `'l2'`, которая помогает избежать переобучения модели, штрафуя большие весовые значения (в нашем случае коэффициенты регрессии). Напомним, что в `sklearn` указывается обратное значение коэффициента, то есть, чем больше значение гиперпараметра `'C'`, тем меньше \"штраф\" и больше возможность переобучения:"
   ]
  },
  {
   "cell_type": "code",
   "execution_count": 33,
   "metadata": {},
   "outputs": [
    {
     "name": "stdout",
     "output_type": "stream",
     "text": [
      "Best hyperparameters: {'model__C': 100}\n",
      "Best F1 metrics: 0.50\n",
      "CPU times: total: 2.14 s\n",
      "Wall time: 11.7 s\n"
     ]
    }
   ],
   "source": [
    "%%time\n",
    "# Set pipeline for logistic regression\n",
    "pipeline = Pipeline([('preprocessing', preprocessor),\n",
    "                     ('model', LogisticRegression(\n",
    "                         random_state=SEED_VALUE, solver='lbfgs', max_iter=1000))])\n",
    "\n",
    "# Set hyperparameter values to serach through \n",
    "param_grid = [{'model__C': [0.01, 0.1, 1, 10, 100]}]\n",
    "\n",
    "# Perform grid search for best hyperparameters based on f1 score\n",
    "grid_lr = GridSearchCV(pipeline, param_grid=param_grid, scoring=scoring, \n",
    "                       cv=cv, n_jobs=-1, return_train_score=True)\n",
    "grid_lr.fit(X_train, y_train)\n",
    "\n",
    "# Print best parameters, train and validation accuracy\n",
    "print(f\"Best hyperparameters: {grid_lr.best_params_}\")\n",
    "print(f\"Best F1 metrics: {grid_lr.best_score_:.2f}\")"
   ]
  },
  {
   "cell_type": "markdown",
   "metadata": {},
   "source": [
    "Итак, целевого значения метрики мы не достигли. Отметим, так же, что полученная метрика посчитана после переобучения модели на всей обучающей выборке. \n",
    "\n",
    "Для того чтобы посмотреть средние значения метрики полученные во время обучения и валидации при изменении гиперпараметра (в случае нескольких гиперпараметров, один изменяется, а остальные находятся на оптимальных значениях), напишем следующую функцию:   "
   ]
  },
  {
   "cell_type": "code",
   "execution_count": 34,
   "metadata": {},
   "outputs": [],
   "source": [
    "# Define a function that plots gridsearch train and validation scores \n",
    "def plot_gridsearch_results(grid):\n",
    "    # Get train / validation scores and hyperparameters \n",
    "    train_score = grid.cv_results_['mean_train_score']\n",
    "    valid_score = grid.cv_results_['mean_test_score']\n",
    "    params = grid.param_grid[0]\n",
    "    \n",
    "    # Generate masks to get indexes of values per hyperparameter\n",
    "    masks=[]\n",
    "    masks_names= list(grid.best_params_.keys())\n",
    "    for key, value in grid.best_params_.items():\n",
    "        masks.append(list(grid.cv_results_['param_'+ key].data == value))\n",
    "    if len(masks) == 1:\n",
    "        masks.append([True] * len(masks[0]))        \n",
    "    \n",
    "    # Plot results\n",
    "    plt.figure(figsize=(4 * len(params), 4))\n",
    "    for index, name in enumerate(masks_names):    \n",
    "        best_params_mask = np.stack(masks[0:index] + masks[index + 1: ]).all(axis=0)\n",
    "        best_params_index = np.where(best_params_mask)    \n",
    "        plt.subplot(1, len(masks_names), index + 1)    \n",
    "        plt.plot(train_score[best_params_index], '-o', label='train')\n",
    "        plt.plot(valid_score[best_params_index], '-o', label='valid')\n",
    "        plt.xticks(list(range(len(params[name]))), labels=params[name])\n",
    "        plt.xlabel(name)\n",
    "        plt.ylabel('mean score')\n",
    "        plt.legend()\n",
    "        plt.grid('on')\n",
    "    plt.suptitle('Grid Search Scores', fontsize=16)\n",
    "    plt.tight_layout()\n",
    "    plt.show()"
   ]
  },
  {
   "cell_type": "markdown",
   "metadata": {},
   "source": [
    "Теперь выведем график изменения метрики в зависимости от значения гиперпараметра:"
   ]
  },
  {
   "cell_type": "code",
   "execution_count": 35,
   "metadata": {},
   "outputs": [
    {
     "data": {
      "image/png": "[encoded data removed]",
      "text/plain": [
       "<Figure size 288x288 with 1 Axes>"
      ]
     },
     "metadata": {
      "needs_background": "light"
     },
     "output_type": "display_data"
    }
   ],
   "source": [
    "# Plot grid search train and validation scores\n",
    "plot_gridsearch_results(grid_lr)"
   ]
  },
  {
   "cell_type": "markdown",
   "metadata": {},
   "source": [
    "Как и ожидалось при увеличении параметра `'C'` средняя целевая метрика увеличивалась на обучающих выборках. При этом, модель мы явно не переобучили (разница между средними метриками на обучающих и валидационных выборках очень небольшая).\n",
    "\n",
    "Выведем полученные коэффициенты регрессии:"
   ]
  },
  {
   "cell_type": "code",
   "execution_count": 36,
   "metadata": {},
   "outputs": [
    {
     "data": {
      "text/plain": [
       "NumOfProducts_4      7.21\n",
       "NumOfProducts_3      2.50\n",
       "Geography_Germany    1.00\n",
       "Age                  0.77\n",
       "TenureNan_1          0.10\n",
       "EstimatedSalary      0.03\n",
       "HasCrCard_1          0.01\n",
       "Geography_Spain     -0.02\n",
       "Tenure              -0.05\n",
       "CreditScore         -0.07\n",
       "Balance             -0.07\n",
       "Gender_Male         -0.57\n",
       "IsActiveMember_1    -1.21\n",
       "NumOfProducts_2     -1.58\n",
       "dtype: float64"
      ]
     },
     "execution_count": 36,
     "metadata": {},
     "output_type": "execute_result"
    }
   ],
   "source": [
    "# Get feature names\n",
    "feature_names = (columns_num + list(\n",
    "    grid_lr.best_estimator_\n",
    "    .named_steps\n",
    "    .preprocessing\n",
    "    .named_transformers_\n",
    "    .pipeline_cat\n",
    "    .named_steps\n",
    "    .encoder\n",
    "    .get_feature_names_out(columns_cat)))\n",
    "\n",
    "# Show regression coefficients\n",
    "pd.Series(*grid_lr.best_estimator_.named_steps.model.coef_, \n",
    "          index=feature_names).sort_values(ascending=False) "
   ]
  },
  {
   "cell_type": "markdown",
   "metadata": {},
   "source": [
    "Похоже, как и ожидалось, количество используемых продуктов значительно влияет на шансы (логарифм отношения шансов) отнесения к классу \"1\" - 3 и более продуктов увеличвают шансы ухода (напомним, что мы масштабировали признаки, поэтому можем сравнивать коэффициенты между собой). Также значительное влияние оказывает место проживания (проживание в Германии увеличивает шансы ухода), возраст (чем старше, тем больше шансы ухода), активность (если клиент активный, то шансы ухода меньше) и пол (мужской пол снижает шансы ухода). \n",
    "\n",
    "Теперь посмотрим на нашу метрику (а также другие метрики качества) на валидационной выборке. Для этого воспользуемся `classification_report` из `sklearn`:"
   ]
  },
  {
   "cell_type": "code",
   "execution_count": 37,
   "metadata": {},
   "outputs": [
    {
     "name": "stdout",
     "output_type": "stream",
     "text": [
      "              precision    recall  f1-score   support\n",
      "\n",
      "      Stayed       0.86      0.96      0.91      1551\n",
      "      Exited       0.71      0.42      0.53       400\n",
      "\n",
      "    accuracy                           0.85      1951\n",
      "   macro avg       0.79      0.69      0.72      1951\n",
      "weighted avg       0.83      0.85      0.83      1951\n",
      "\n"
     ]
    }
   ],
   "source": [
    "# Make predictions for validation dataset\n",
    "y_pred = grid_lr.predict(X_valid)\n",
    "\n",
    "# Generate classification report for validation dataset\n",
    "print(classification_report(y_valid, y_pred, target_names=['Stayed', 'Exited']))"
   ]
  },
  {
   "cell_type": "markdown",
   "metadata": {},
   "source": [
    "Метрика - F1 даже немного \"подросла\", но все равно намного ниже целевого значения. Основной причиной является низкая полнота (*recall*) - 0.42, то есть из всех ушедших из банка мы определили как таковых только в 42% случаев. Отметим, что при этом доля правильных ответов в целом (85%) превосходит наш критерий \"адекватности\".\n",
    "\n",
    "Более наглядно полученный результат можно продемонстрировать при помощи матрицы ошибок (*Confusion matrix*):"
   ]
  },
  {
   "cell_type": "code",
   "execution_count": 38,
   "metadata": {},
   "outputs": [
    {
     "data": {
      "image/png": "[encoded data removed]",
      "text/plain": [
       "<Figure size 432x288 with 2 Axes>"
      ]
     },
     "metadata": {
      "needs_background": "light"
     },
     "output_type": "display_data"
    }
   ],
   "source": [
    "# Show confusion matrix for test dataset\n",
    "ConfusionMatrixDisplay(confusion_matrix(y_valid, y_pred), \n",
    "                       display_labels=['Stayed', 'Exited']).plot()\n",
    "plt.show()"
   ]
  },
  {
   "cell_type": "markdown",
   "metadata": {},
   "source": [
    "Действительно в 233 случаев ушедших из банка определили, как оставшихся, и только в 167 случаях правильно. Навряд ли такая модель устроит банк.\n",
    "\n",
    "В заключение проконтролируем площадь под ROC-кривой:"
   ]
  },
  {
   "cell_type": "code",
   "execution_count": 39,
   "metadata": {},
   "outputs": [
    {
     "data": {
      "image/png": "[encoded data removed]",
      "text/plain": [
       "<Figure size 432x288 with 1 Axes>"
      ]
     },
     "metadata": {
      "needs_background": "light"
     },
     "output_type": "display_data"
    }
   ],
   "source": [
    "# Predict probabilities\n",
    "prob_valid = grid_lr.predict_proba(X_valid)\n",
    "\n",
    "# Plot ROC curve\n",
    "RocCurveDisplay.from_predictions(y_valid, prob_valid[:, 1])\n",
    "plt.show()"
   ]
  },
  {
   "cell_type": "markdown",
   "metadata": {},
   "source": [
    "Площадь значительно больше чем 0.5 (площадь случайной модели), то есть наша модель делает прогнозы не случайным образом. "
   ]
  },
  {
   "cell_type": "markdown",
   "metadata": {
    "tags": []
   },
   "source": [
    "#### 3.1.2 Случайный лес"
   ]
  },
  {
   "cell_type": "markdown",
   "metadata": {},
   "source": [
    "Теперь рассмотрим другую модель - случайный лес. В отличие от регрессии это нелинейная модель, что может улучшить результат (если наши классы не разделены гиперплоскостью - прямой).  \n",
    "\n",
    "В случае случайного леса мы будем перебирать два гиперпараметра - максимальную \"глубину\" (*max_depth*), то есть максимальное количество делений обучающего множества на подмножества, и количество деревьев (*n_estimators*). Чем больше деревьев, тем дольше модель будет учиться, но результат станет лучше (и наоборот):"
   ]
  },
  {
   "cell_type": "code",
   "execution_count": 40,
   "metadata": {},
   "outputs": [
    {
     "name": "stdout",
     "output_type": "stream",
     "text": [
      "Best hyperparameters: {'model__max_depth': 5, 'model__n_estimators': 90}\n",
      "Best F1 metrics: 0.46\n",
      "CPU times: total: 4.38 s\n",
      "Wall time: 57.9 s\n"
     ]
    }
   ],
   "source": [
    "%%time\n",
    "# Set pipeline for random forest\n",
    "pipeline = Pipeline([('preprocessing', preprocessor),\n",
    "                     ('model', \n",
    "                      RandomForestClassifier(random_state=SEED_VALUE))])\n",
    "\n",
    "# Set hyperparameter values to serach through \n",
    "param_grid = [{'model__max_depth': np.array(range(1, 6)),\n",
    "               'model__n_estimators': np.array(range(10, 101, 10))}]\n",
    "\n",
    "# Perform grid search for best hyperparameters based on f1 score\n",
    "grid_rf = GridSearchCV(pipeline, param_grid=param_grid, scoring=scoring, \n",
    "                       cv=cv, n_jobs=-1, return_train_score=True)\n",
    "grid_rf.fit(X_train, y_train)\n",
    "\n",
    "# Print best parameters, train and validation accuracy\n",
    "print(f\"Best hyperparameters: {grid_rf.best_params_}\")\n",
    "print(f\"Best F1 metrics: {grid_rf.best_score_:.2f}\")"
   ]
  },
  {
   "cell_type": "markdown",
   "metadata": {},
   "source": [
    "Метрика F1 даже хуже, чем в случае регрессии, либо все-таки линейная модель подходит больше, либо дисбаланс сильнее влияет на качество случайного леса.\n",
    "\n",
    "Посмотрим значения метрики при изменении гиперпараметров: "
   ]
  },
  {
   "cell_type": "code",
   "execution_count": 41,
   "metadata": {},
   "outputs": [
    {
     "data": {
      "image/png": "[encoded data removed]",
      "text/plain": [
       "<Figure size 576x288 with 2 Axes>"
      ]
     },
     "metadata": {
      "needs_background": "light"
     },
     "output_type": "display_data"
    }
   ],
   "source": [
    "# Plot grid search train and validation scores\n",
    "plot_gridsearch_results(grid_rf)"
   ]
  },
  {
   "cell_type": "markdown",
   "metadata": {},
   "source": [
    "Ожидаемо, при росте \"глубины\" растет и метрика. При этом, разрыв между средними метриками на обучающих и валидационных выборках начинает увеличиваться, то есть дальнейшее увеличение \"глубины\" может привести к переобучению. Рост количества деревьев также приводит к росту метрики (хоть и не так стабильно), но при этом соотношение между средними метриками на обучающих и валидационных выборках относительно постоянно.\n",
    "\n",
    "Посмотрим на важность признаков:"
   ]
  },
  {
   "cell_type": "code",
   "execution_count": 42,
   "metadata": {},
   "outputs": [
    {
     "data": {
      "text/plain": [
       "Age                 0.32\n",
       "NumOfProducts_2     0.21\n",
       "NumOfProducts_3     0.14\n",
       "IsActiveMember_1    0.10\n",
       "Geography_Germany   0.06\n",
       "Balance             0.05\n",
       "NumOfProducts_4     0.04\n",
       "CreditScore         0.03\n",
       "Gender_Male         0.02\n",
       "EstimatedSalary     0.01\n",
       "Tenure              0.01\n",
       "Geography_Spain     0.00\n",
       "HasCrCard_1         0.00\n",
       "TenureNan_1         0.00\n",
       "dtype: float64"
      ]
     },
     "execution_count": 42,
     "metadata": {},
     "output_type": "execute_result"
    }
   ],
   "source": [
    "# Show feature importances\n",
    "pd.Series(grid_rf.best_estimator_.named_steps.model.feature_importances_, \n",
    "          index=feature_names).sort_values(ascending=False) "
   ]
  },
  {
   "cell_type": "markdown",
   "metadata": {},
   "source": [
    "В данном случае важность определяется как суммарное снижение неопределенности (критерия Джини), достигаемое при включении того или иного признака. В отличие от коэффициентов регрессии \"важность\" всегда положительна и не указывает на взаимосвязь с каким-то конкретным классом. Сумма важности всех признаков равна 1.\n",
    "\n",
    "Однако, как и в случае с регрессией, возраст, количество продуктов, активность и местоположение оказывают значительное влияние на определение класса.  \n",
    "\n",
    "Теперь посмотрим метрики на валидационной выборке:"
   ]
  },
  {
   "cell_type": "code",
   "execution_count": 43,
   "metadata": {},
   "outputs": [
    {
     "name": "stdout",
     "output_type": "stream",
     "text": [
      "              precision    recall  f1-score   support\n",
      "\n",
      "      Stayed       0.85      0.99      0.91      1551\n",
      "      Exited       0.85      0.33      0.47       400\n",
      "\n",
      "    accuracy                           0.85      1951\n",
      "   macro avg       0.85      0.66      0.69      1951\n",
      "weighted avg       0.85      0.85      0.82      1951\n",
      "\n"
     ]
    }
   ],
   "source": [
    "# Make predictions for validation dataset\n",
    "y_pred = grid_rf.predict(X_valid)\n",
    "\n",
    "# Generate classification report for validation dataset\n",
    "print(classification_report(y_valid, y_pred, target_names=['Stayed', 'Exited']))"
   ]
  },
  {
   "cell_type": "markdown",
   "metadata": {},
   "source": [
    "И опять метрика F1 немного лучше (по сравнению с обучающей выборкой), похоже нам повезло с валидационной выборкой. Однако, по сравнению с регрессией полнота стала еще хуже - 0.33 (правда точность немного выросла), что и сказалось на снижении метрики F1. При этом доля правильных находится примерно на том же уровне. \n",
    "\n",
    "Посмотрим матрицу ошибок:"
   ]
  },
  {
   "cell_type": "code",
   "execution_count": 44,
   "metadata": {},
   "outputs": [
    {
     "data": {
      "image/png": "[encoded data removed]",
      "text/plain": [
       "<Figure size 432x288 with 2 Axes>"
      ]
     },
     "metadata": {
      "needs_background": "light"
     },
     "output_type": "display_data"
    }
   ],
   "source": [
    "# Show confusion matrix for test dataset\n",
    "ConfusionMatrixDisplay(confusion_matrix(y_valid, y_pred), \n",
    "                       display_labels=['Stayed', 'Exited']).plot()\n",
    "plt.show()"
   ]
  },
  {
   "cell_type": "markdown",
   "metadata": {},
   "source": [
    "Только в 131 случае мы определили действительно \"ушедших\" как таковых, а в 269 случаях отнесли их к \"оставшимся\".\n",
    "\n",
    "Проконтролируем площадь под кривой ROC: "
   ]
  },
  {
   "cell_type": "code",
   "execution_count": 45,
   "metadata": {},
   "outputs": [
    {
     "data": {
      "image/png": "[encoded data removed]",
      "text/plain": [
       "<Figure size 432x288 with 1 Axes>"
      ]
     },
     "metadata": {
      "needs_background": "light"
     },
     "output_type": "display_data"
    }
   ],
   "source": [
    "# Predict probabilities\n",
    "prob_valid = grid_rf.predict_proba(X_valid)\n",
    "\n",
    "# Plot ROC curve\n",
    "RocCurveDisplay.from_predictions(y_valid, prob_valid[:, 1])\n",
    "plt.show()"
   ]
  },
  {
   "cell_type": "markdown",
   "metadata": {},
   "source": [
    "По сравнению с регрессией площадь немного выросла, то есть при правильном подборе порога отнесения к тому или иному классу, случайный лес может показать лучший результат (по сравнению с регрессией). "
   ]
  },
  {
   "cell_type": "markdown",
   "metadata": {},
   "source": [
    "#### 3.1.3 Выводы"
   ]
  },
  {
   "cell_type": "markdown",
   "metadata": {},
   "source": [
    "Мы рассмотрели две модели - логистическую регрессию и случайный лес. При этом мы не учитывали дисбаланс классов и результат оказался неудовлетворительным. Целевая метрика в обоих случаях (регрессия - 0.53 и случайный лес - 0.47) не достигла целевого показателя (0.59). Основной причиной является низкое качество определения фактически ушедших из банка клиентов, как таковых (полнота), что вероятно связано с дисбалансом классов (фактически ушедшие клиенты являются \"миноритарным\" классом). При этом обе модели превысили критерии случайности и адекватности. Также отметим, что несмотря на то, что случайный лес показал худший результат, чем регрессия, большее значение площади под кривой ROC (в случае первого), может говорить о том, что поправка моделей на дисбаланс может привести к тому, что именно случайный лес окажется \"лучшей\" моделью.    "
   ]
  },
  {
   "cell_type": "markdown",
   "metadata": {
    "tags": []
   },
   "source": [
    "### 3.2 Выбор модели c учетом дисбаланса классов"
   ]
  },
  {
   "cell_type": "markdown",
   "metadata": {},
   "source": [
    "#### 3.2.1 Логистическая регрессия"
   ]
  },
  {
   "cell_type": "markdown",
   "metadata": {},
   "source": [
    "Попробуем \"скорректировать\" наши модели с учетом дисбаланса классов, и начнем с логистической регрессии. \n",
    "\n",
    "В качестве одного из методов борьбы с дисбалансом рассмотрим изменение порога вероятности, в соответствии с которым мы относим наблюдение к положительному классу (\"1\"). По умолчанию этот порог составляет 0.5, то есть если вероятность положительного класса, определяемого моделью, больше 0.5, то наблюдение будет отнесено к нему. Попробуем изменить этот порог и посмотрим, как будет меняться наша метрика F1. Для этого сначала напишем функцию, которая считает разные значения метрики при разных значениях порога:    "
   ]
  },
  {
   "cell_type": "code",
   "execution_count": 46,
   "metadata": {},
   "outputs": [],
   "source": [
    "# Define 'F1 curve' function\n",
    "def f1_curve(y_true, prob_pred, step=0.1):    \n",
    "    threshold = np.arange(0, 1, step)    \n",
    "    f1_curve = np.zeros(len(threshold))\n",
    "    \n",
    "    for index, thres in enumerate(threshold):\n",
    "        y_pred = np.where(prob_pred > thres, 1, 0)\n",
    "        f1_curve[index] = f1_score(y_true, y_pred)\n",
    "        \n",
    "    return f1_curve, threshold"
   ]
  },
  {
   "cell_type": "markdown",
   "metadata": {},
   "source": [
    "Теперь спрогнозируем вероятности (используя модель, полученную в предыдущем разделе) для обучающей и валидационной выборок, и используя функцию выше, построим зависимость метрики F1 от порога (назовем ее F1-кривой): "
   ]
  },
  {
   "cell_type": "code",
   "execution_count": 47,
   "metadata": {},
   "outputs": [
    {
     "name": "stdout",
     "output_type": "stream",
     "text": [
      "Train. Max F1: 0.58, Threshold: 0.29\n",
      "Validation. Max F1: 0.58, Threshold: 0.27\n"
     ]
    },
    {
     "data": {
      "image/png": "[encoded data removed]",
      "text/plain": [
       "<Figure size 504x360 with 1 Axes>"
      ]
     },
     "metadata": {
      "needs_background": "light"
     },
     "output_type": "display_data"
    }
   ],
   "source": [
    "# Predict probabilities for train and validation sets\n",
    "prob_train = grid_lr.predict_proba(X_train)\n",
    "prob_valid = grid_lr.predict_proba(X_valid)\n",
    "\n",
    "# Calculate F1 values for different thresholds\n",
    "f1_train, threshold_train = f1_curve(y_train, prob_train[:, 1], \n",
    "                                     step=0.01)\n",
    "f1_valid, threshold_valid = f1_curve(y_valid, prob_valid[:, 1], \n",
    "                                     step=0.01)\n",
    "\n",
    "# Compute thresholds for max f1 metric\n",
    "threshold_lr_train = threshold_train[np.argmax(f1_train)]\n",
    "threshold_lr_valid = threshold_valid[np.argmax(f1_valid)]\n",
    "\n",
    "# Print max F1 score and corresponding threshold\n",
    "print(f\"Train. Max F1: {max(f1_train):.2f}, Threshold: {threshold_lr_train}\")\n",
    "print(f\"Validation. Max F1: {max(f1_valid):.2f}, Threshold: {threshold_lr_valid}\")\n",
    "\n",
    "# Plot F1 curve\n",
    "plt.figure(figsize=(7, 5))\n",
    "plt.plot(threshold_valid, f1_valid, label='f1 score (valid)')\n",
    "plt.axvline(x=threshold_lr_train, linestyle='--', \n",
    "            color='red', label='best threshold (train)')\n",
    "plt.axvline(x=threshold_lr_valid, linestyle='-', \n",
    "            color='green', label='best threshold (valid)')\n",
    "plt.xlabel('threshold')\n",
    "plt.ylabel('F1 score')\n",
    "plt.legend() \n",
    "plt.title('F1 curve')\n",
    "plt.show()"
   ]
  },
  {
   "cell_type": "markdown",
   "metadata": {},
   "source": [
    "На графике выше отображена F1-кривая для валидационной выборки, а также показаны значения порогов, при которых метрика достигает максимума, для валидационной и обучающей выборок. Как видно из графика, значения порогов немного отличаются, поэтому значение метрики, которое мы получим, используя порог, определенный по обучающей выборке, может быть немного ниже, чем максимальная метрика для валидационной выборки. Также отметим, что в любом случае мы не достигли минимального требуемого значения метрики, хотя результат значительно улучшился. \n",
    "\n",
    "Посмотрим, какие метрики мы получим на валидационной выборке (используя порог, полученный на обучающей):  "
   ]
  },
  {
   "cell_type": "code",
   "execution_count": 48,
   "metadata": {},
   "outputs": [
    {
     "name": "stdout",
     "output_type": "stream",
     "text": [
      "              precision    recall  f1-score   support\n",
      "\n",
      "      Stayed       0.90      0.86      0.88      1551\n",
      "      Exited       0.53      0.64      0.58       400\n",
      "\n",
      "    accuracy                           0.81      1951\n",
      "   macro avg       0.72      0.75      0.73      1951\n",
      "weighted avg       0.83      0.81      0.82      1951\n",
      "\n"
     ]
    }
   ],
   "source": [
    "# Make predictions for validation dataset\n",
    "y_pred = (prob_valid[:, 1] >= threshold_lr_train).astype(bool)\n",
    "\n",
    "# Generate classification report for validation dataset\n",
    "class_report_lr_thres = classification_report(y_valid, y_pred, \n",
    "                                              target_names=['Stayed', 'Exited'])\n",
    "print(class_report_lr_thres)"
   ]
  },
  {
   "cell_type": "markdown",
   "metadata": {},
   "source": [
    "F1-метрика не изменилась (или практически не изменилась, так как значение округлено) по сравнению с обучающей выборкой, но значительно выросла по сравнению с \"базовой\" моделью. При этом, по сравнению с этой же моделью, полнота выросла до 0.64, но упала точность (*precision*). Также немного снизилась доля правильных ответов (до 81%).\n",
    "\n",
    "Посмотрим на матрицу ошибок:"
   ]
  },
  {
   "cell_type": "code",
   "execution_count": 49,
   "metadata": {},
   "outputs": [
    {
     "data": {
      "image/png": "[encoded data removed]",
      "text/plain": [
       "<Figure size 432x288 with 2 Axes>"
      ]
     },
     "metadata": {
      "needs_background": "light"
     },
     "output_type": "display_data"
    }
   ],
   "source": [
    "# Show confusion matrix for test dataset\n",
    "ConfusionMatrixDisplay(confusion_matrix(y_valid, y_pred), \n",
    "                       display_labels=['Stayed', 'Exited']).plot()\n",
    "plt.show()"
   ]
  },
  {
   "cell_type": "markdown",
   "metadata": {},
   "source": [
    "Итак, теперь только в 146 случаях \"ушедшие\" отнесены к \"оставшимся\", а в 254 случаях определены правильно. Однако, количество \"оставшихся\" неправильно отнесенных к \"ушедшим\" выросло в 3 раза, что и сказалось на точности. \n",
    "\n",
    "Попробуем другой метод борьбы с дисбалансом - взвешивание классов, который предполагает, что при расчете функции потерь (*loss function*) ошибкам \"миноритарного\" класса будет присвоен больший вес, и соответственно вырастет их важность при оптимизации ошибки модели. В отличие от изменения порога, модель со взвешиванием, это уже по сути новая модель, поэтому мы заново переберем гиперпараметры для поиска \"лучшей\" модели:     "
   ]
  },
  {
   "cell_type": "code",
   "execution_count": 50,
   "metadata": {},
   "outputs": [
    {
     "name": "stdout",
     "output_type": "stream",
     "text": [
      "Best hyperparameters: {'model__C': 1}\n",
      "Best F1 metrics: 0.57\n",
      "CPU times: total: 1.25 s\n",
      "Wall time: 6.77 s\n"
     ]
    }
   ],
   "source": [
    "%%time\n",
    "# Set pipeline for logistic regression\n",
    "pipeline = Pipeline([('preprocessing', preprocessor),\n",
    "                     ('model', LogisticRegression(\n",
    "                         random_state=SEED_VALUE, solver='lbfgs', \n",
    "                         max_iter=1000, class_weight='balanced'))])\n",
    "\n",
    "# Set hyperparameter values to serach through \n",
    "param_grid = [{'model__C': [0.01, 0.1, 1, 10, 100]}]\n",
    "\n",
    "# Perform grid search for best hyperparameters based on f1 score\n",
    "grid_lr_weight = GridSearchCV(pipeline, param_grid=param_grid, scoring=scoring, \n",
    "                              cv=cv, n_jobs=-1, return_train_score=True)\n",
    "grid_lr_weight.fit(X_train, y_train)\n",
    "\n",
    "# Print best parameters, train and validation accuracy\n",
    "print(f\"Best hyperparameters: {grid_lr_weight.best_params_}\")\n",
    "print(f\"Best F1 metrics: {grid_lr_weight.best_score_:.2f}\")"
   ]
  },
  {
   "cell_type": "markdown",
   "metadata": {},
   "source": [
    "Итак, мы опять не достигли минимальной метрики, хотя она и улучшилась по сравнению с \"базовой\" регрессией (но немного снизилась по сравнению с изменением порога). Обратим внимание, что оптимальный параметр `'C'` снизился (то есть увеличился \"штраф\" за большие весовые значения) по сравнению с \"базовой\" версией. Посмотрим на изменение метрики в ходе обучения и валидации:"
   ]
  },
  {
   "cell_type": "code",
   "execution_count": 51,
   "metadata": {},
   "outputs": [
    {
     "data": {
      "image/png": "[encoded data removed]",
      "text/plain": [
       "<Figure size 288x288 with 1 Axes>"
      ]
     },
     "metadata": {
      "needs_background": "light"
     },
     "output_type": "display_data"
    }
   ],
   "source": [
    "# Plot grid search train and validation scores\n",
    "plot_gridsearch_results(grid_lr_weight)"
   ]
  },
  {
   "cell_type": "markdown",
   "metadata": {},
   "source": [
    "Похоже, что при увеличении параметра `'C'` более 1, валидационная метрика стала падать. Однако, отметим, что разница между метриками на обучающей и валидационной выборках в этом случае значительно меньше, чем для \"базовой\" модели (не очевидно из-за разного масштаба графиков). Посмотрим коэффициенты регрессии:    "
   ]
  },
  {
   "cell_type": "code",
   "execution_count": 52,
   "metadata": {},
   "outputs": [
    {
     "data": {
      "text/plain": [
       "NumOfProducts_4      2.94\n",
       "NumOfProducts_3      2.33\n",
       "Geography_Germany    0.96\n",
       "Age                  0.80\n",
       "TenureNan_1          0.08\n",
       "EstimatedSalary      0.02\n",
       "Geography_Spain     -0.01\n",
       "HasCrCard_1         -0.02\n",
       "Balance             -0.02\n",
       "Tenure              -0.05\n",
       "CreditScore         -0.06\n",
       "Gender_Male         -0.63\n",
       "IsActiveMember_1    -1.09\n",
       "NumOfProducts_2     -1.55\n",
       "dtype: float64"
      ]
     },
     "execution_count": 52,
     "metadata": {},
     "output_type": "execute_result"
    }
   ],
   "source": [
    "# Show regression coefficients\n",
    "pd.Series(*grid_lr_weight.best_estimator_.named_steps.model.coef_, \n",
    "          index=feature_names).sort_values(ascending=False) "
   ]
  },
  {
   "cell_type": "markdown",
   "metadata": {},
   "source": [
    "Положительные коэффициенты стали более равномерными, однако порядок \"важности\" признаков практически не изменился (за исключением возраста и местонахождения). Посмотрим метрики на валидационной выборке: "
   ]
  },
  {
   "cell_type": "code",
   "execution_count": 53,
   "metadata": {},
   "outputs": [
    {
     "name": "stdout",
     "output_type": "stream",
     "text": [
      "              precision    recall  f1-score   support\n",
      "\n",
      "      Stayed       0.92      0.76      0.84      1551\n",
      "      Exited       0.45      0.76      0.57       400\n",
      "\n",
      "    accuracy                           0.76      1951\n",
      "   macro avg       0.69      0.76      0.70      1951\n",
      "weighted avg       0.83      0.76      0.78      1951\n",
      "\n"
     ]
    }
   ],
   "source": [
    "# Make predictions for validation dataset\n",
    "y_pred = grid_lr_weight.predict(X_valid)\n",
    "\n",
    "# Generate classification report for validation dataset\n",
    "class_report_lr_weight = classification_report(y_valid, y_pred, \n",
    "                                               target_names=['Stayed', 'Exited'])\n",
    "print(class_report_lr_weight)"
   ]
  },
  {
   "cell_type": "markdown",
   "metadata": {},
   "source": [
    "F1-метрика немного ниже, чем при оптимизации порога (такая же как и на обучающей выборке), а вот соотношение точности и полноты поменялось значительно. Модель относительно неплохо определяет \"ушедших\" среди действительно ушедших из банка клиентов, но при этом также относит к \"ушедшим\" значительное количество (более 50%) клиентов другого класса. Также отметим, что доля правильных ответов снизилась по сравнению со всеми предыдущими моделями, и стала ниже нашего порога \"адекватности\" (при этом причина конечно обратная). \n",
    "\n",
    "Посмотрим матрицу ошибок: "
   ]
  },
  {
   "cell_type": "code",
   "execution_count": 54,
   "metadata": {},
   "outputs": [
    {
     "data": {
      "image/png": "[encoded data removed]",
      "text/plain": [
       "<Figure size 432x288 with 2 Axes>"
      ]
     },
     "metadata": {
      "needs_background": "light"
     },
     "output_type": "display_data"
    }
   ],
   "source": [
    "# Show confusion matrix for test dataset\n",
    "ConfusionMatrixDisplay(confusion_matrix(y_valid, y_pred), \n",
    "                       display_labels=['Stayed', 'Exited']).plot()\n",
    "plt.show()"
   ]
  },
  {
   "cell_type": "markdown",
   "metadata": {},
   "source": [
    "Итак, мы правильно классифицировали 303 ушедших клиента, как \"ушедших\", но еще добавили к ним 365 клиентов, которые никуда не уходили.\n",
    "\n",
    "Проверим площадь под ROC-кривой:"
   ]
  },
  {
   "cell_type": "code",
   "execution_count": 55,
   "metadata": {},
   "outputs": [
    {
     "data": {
      "image/png": "[encoded data removed]",
      "text/plain": [
       "<Figure size 432x288 with 1 Axes>"
      ]
     },
     "metadata": {
      "needs_background": "light"
     },
     "output_type": "display_data"
    }
   ],
   "source": [
    "# Predict probabilities\n",
    "prob_valid = grid_lr_weight.predict_proba(X_valid)\n",
    "\n",
    "# Compute area under ROC (for summary table below)\n",
    "auc_roc_lr_weight = roc_auc_score(y_valid, prob_valid[:, 1])\n",
    "\n",
    "# Plot ROC curve\n",
    "RocCurveDisplay.from_predictions(y_valid, prob_valid[:, 1])\n",
    "plt.show()"
   ]
  },
  {
   "cell_type": "markdown",
   "metadata": {},
   "source": [
    "Такая же как и у \"базовой\" модели, что неудивительно, так как по сути мы не добавили новой информации, а фактически изменили положение на \"базовой\" кривой.\n",
    "\n",
    "Последний метод, или скорее методы борьбы с дисбалансом, которые мы попробуем - увеличение / уменьшение выборки (функцию для этих методов мы написали в разделе 2). Помимо коэффициента регуляризации переберем также \"увеличение\" и \"уменьшение\", возможно какой-то метод покажет лучший результат: "
   ]
  },
  {
   "cell_type": "code",
   "execution_count": 56,
   "metadata": {},
   "outputs": [
    {
     "name": "stdout",
     "output_type": "stream",
     "text": [
      "Best hyperparameters: {'model__C': 1, 'resampling__kw_args': {'kind': 'up'}}\n",
      "Best F1 metrics: 0.57\n",
      "CPU times: total: 3.75 s\n",
      "Wall time: 11.6 s\n"
     ]
    }
   ],
   "source": [
    "%%time\n",
    "# Set pipeline for logistic regression\n",
    "pipeline = Pipeline([('resampling', resampler),\n",
    "                     ('preprocessing', preprocessor),\n",
    "                     ('model', LogisticRegression(\n",
    "                         random_state=SEED_VALUE, solver='lbfgs'))])\n",
    "\n",
    "# Set hyperparameter values to serach through \n",
    "param_grid = [{'resampling__kw_args': [{'kind': 'up'}, {'kind': 'down'}],\n",
    "               'model__C': [0.01, 0.1, 1, 10, 100]}]\n",
    "\n",
    "# Perform grid search for best hyperparameters based on f1 score\n",
    "grid_lr_resamp = GridSearchCV(pipeline, param_grid=param_grid, scoring=scoring, \n",
    "                              cv=cv, n_jobs=-1, return_train_score=True)\n",
    "grid_lr_resamp.fit(X_train, y_train)\n",
    "\n",
    "# Print best parameters, train and validation accuracy\n",
    "print(f\"Best hyperparameters: {grid_lr_resamp.best_params_}\")\n",
    "print(f\"Best F1 metrics: {grid_lr_resamp.best_score_:.2f}\")"
   ]
  },
  {
   "cell_type": "markdown",
   "metadata": {},
   "source": [
    "Целевая метрика такая же, как и при взвешивании, и похоже что \"увеличение\" выборки дает лучший результат. Посмотрим на графиках: "
   ]
  },
  {
   "cell_type": "code",
   "execution_count": 57,
   "metadata": {},
   "outputs": [
    {
     "data": {
      "image/png": "[encoded data removed]",
      "text/plain": [
       "<Figure size 576x288 with 2 Axes>"
      ]
     },
     "metadata": {
      "needs_background": "light"
     },
     "output_type": "display_data"
    }
   ],
   "source": [
    "# Plot grid search train and validation scores\n",
    "plot_gridsearch_results(grid_lr_resamp)"
   ]
  },
  {
   "cell_type": "markdown",
   "metadata": {},
   "source": [
    "Разница между \"увеличением\" и \"уменьшением\" выборки выражается в сотых долях - видна только машине. Посмотрим коэффициенты регрессии: "
   ]
  },
  {
   "cell_type": "code",
   "execution_count": 58,
   "metadata": {},
   "outputs": [
    {
     "data": {
      "text/plain": [
       "NumOfProducts_4      3.31\n",
       "NumOfProducts_3      2.38\n",
       "Geography_Germany    0.97\n",
       "Age                  0.81\n",
       "TenureNan_1          0.08\n",
       "EstimatedSalary      0.02\n",
       "Geography_Spain     -0.01\n",
       "Balance             -0.02\n",
       "HasCrCard_1         -0.02\n",
       "Tenure              -0.05\n",
       "CreditScore         -0.06\n",
       "Gender_Male         -0.63\n",
       "IsActiveMember_1    -1.09\n",
       "NumOfProducts_2     -1.55\n",
       "dtype: float64"
      ]
     },
     "execution_count": 58,
     "metadata": {},
     "output_type": "execute_result"
    }
   ],
   "source": [
    "# Show regression coefficients\n",
    "pd.Series(*grid_lr_resamp.best_estimator_.named_steps.model.coef_, \n",
    "          index=feature_names).sort_values(ascending=False) "
   ]
  },
  {
   "cell_type": "markdown",
   "metadata": {},
   "source": [
    "Изменения по сравнению со взвешиванием есть, но незначительные. Посмотрим метрики на валидационной выборке:"
   ]
  },
  {
   "cell_type": "code",
   "execution_count": 59,
   "metadata": {},
   "outputs": [
    {
     "name": "stdout",
     "output_type": "stream",
     "text": [
      "              precision    recall  f1-score   support\n",
      "\n",
      "      Stayed       0.93      0.76      0.83      1551\n",
      "      Exited       0.45      0.76      0.56       400\n",
      "\n",
      "    accuracy                           0.76      1951\n",
      "   macro avg       0.69      0.76      0.70      1951\n",
      "weighted avg       0.83      0.76      0.78      1951\n",
      "\n"
     ]
    }
   ],
   "source": [
    "# Make predictions for validation dataset\n",
    "y_pred = grid_lr_resamp.predict(X_valid)\n",
    "\n",
    "# Generate classification report for validation dataset\n",
    "class_report_lr_resamp = classification_report(y_valid, y_pred, \n",
    "                                               target_names=['Stayed', 'Exited'])\n",
    "print(class_report_lr_resamp)"
   ]
  },
  {
   "cell_type": "markdown",
   "metadata": {},
   "source": [
    "И здесь все очень похоже на модель со взвешиванием с минимальными отличиями. Выведем матрицу ошибок:"
   ]
  },
  {
   "cell_type": "code",
   "execution_count": 60,
   "metadata": {},
   "outputs": [
    {
     "data": {
      "image/png": "[encoded data removed]",
      "text/plain": [
       "<Figure size 432x288 with 2 Axes>"
      ]
     },
     "metadata": {
      "needs_background": "light"
     },
     "output_type": "display_data"
    }
   ],
   "source": [
    "# Show confusion matrix for test dataset\n",
    "ConfusionMatrixDisplay(confusion_matrix(y_valid, y_pred), \n",
    "                       display_labels=['Stayed', 'Exited']).plot()\n",
    "plt.show()"
   ]
  },
  {
   "cell_type": "markdown",
   "metadata": {},
   "source": [
    "Немного лучше полнота, немного хуже точность, но в целом все также, как и при взвешивании. Проконтролируем площадь под кривой ROC:"
   ]
  },
  {
   "cell_type": "code",
   "execution_count": 61,
   "metadata": {},
   "outputs": [
    {
     "data": {
      "image/png": "[encoded data removed]",
      "text/plain": [
       "<Figure size 432x288 with 1 Axes>"
      ]
     },
     "metadata": {
      "needs_background": "light"
     },
     "output_type": "display_data"
    }
   ],
   "source": [
    "# Predict probabilities\n",
    "prob_valid = grid_lr_resamp.predict_proba(X_valid)\n",
    "\n",
    "# Compute area under ROC (for summary table below)\n",
    "auc_roc_lr_resamp = roc_auc_score(y_valid, prob_valid[:, 1])\n",
    "\n",
    "# Plot ROC curve\n",
    "RocCurveDisplay.from_predictions(y_valid, prob_valid[:, 1])\n",
    "plt.show()"
   ]
  },
  {
   "cell_type": "markdown",
   "metadata": {},
   "source": [
    "И здесь все также и видимо по тем же причинам, что и в случае со взвешиванием (см. выше). \n",
    "\n",
    "Таким образом, несмотря на то, что различные методы борьбы с дисбалансом помогли нам улучшить результат по сравнению с \"базовой\" моделью, минимального целевого значения метрики F1 мы пока не достигли. Посмотрим, что получится, если применить те же методы к случайному лесу (большая площадь под кривой ROC случайного леса по сравнению с регрессией дает нам надежду).  "
   ]
  },
  {
   "cell_type": "markdown",
   "metadata": {},
   "source": [
    "#### 3.2.2 Случайный лес"
   ]
  },
  {
   "cell_type": "markdown",
   "metadata": {},
   "source": [
    "Как и в случае с регрессией начнем с изменения порога:"
   ]
  },
  {
   "cell_type": "code",
   "execution_count": 62,
   "metadata": {},
   "outputs": [
    {
     "name": "stdout",
     "output_type": "stream",
     "text": [
      "Train. Max F1: 0.64, Threshold: 0.28\n",
      "Validation. Max F1: 0.63, Threshold: 0.26\n"
     ]
    },
    {
     "data": {
      "image/png": "[encoded data removed]",
      "text/plain": [
       "<Figure size 504x360 with 1 Axes>"
      ]
     },
     "metadata": {
      "needs_background": "light"
     },
     "output_type": "display_data"
    }
   ],
   "source": [
    "# Predict probabilities for train and validation sets\n",
    "prob_train = grid_rf.predict_proba(X_train)\n",
    "prob_valid = grid_rf.predict_proba(X_valid)\n",
    "\n",
    "# Calculate F1 values for different thresholds\n",
    "f1_train, threshold_train = f1_curve(y_train, prob_train[:, 1], \n",
    "                                     step=0.01)\n",
    "f1_valid, threshold_valid = f1_curve(y_valid, prob_valid[:, 1], \n",
    "                                     step=0.01)\n",
    "\n",
    "# Compute thresholds for max f1 metric\n",
    "threshold_rf_train = threshold_train[np.argmax(f1_train)]\n",
    "threshold_rf_valid = threshold_valid[np.argmax(f1_valid)]\n",
    "\n",
    "# Print max F1 score and corresponding threshold\n",
    "print(f\"Train. Max F1: {max(f1_train):.2f}, Threshold: {threshold_rf_train}\")\n",
    "print(f\"Validation. Max F1: {max(f1_valid):.2f}, Threshold: {threshold_rf_valid}\")\n",
    "\n",
    "# Plot F1 curve\n",
    "plt.figure(figsize=(7, 5))\n",
    "plt.plot(threshold_valid, f1_valid, label='f1 score (valid)')\n",
    "plt.axvline(x=threshold_rf_train, linestyle='--', \n",
    "            color='red', label='best threshold (train)')\n",
    "plt.axvline(x=threshold_rf_valid, linestyle='-', \n",
    "            color='green', label='best threshold (valid)')\n",
    "plt.xlabel('threshold')\n",
    "plt.ylabel('F1 score')\n",
    "plt.legend() \n",
    "plt.title('F1 curve')\n",
    "plt.show()"
   ]
  },
  {
   "cell_type": "markdown",
   "metadata": {},
   "source": [
    "Похоже мы наконец-то превысили минимальное требуемое значение метрики F1. Проверим на валидационной выборке:"
   ]
  },
  {
   "cell_type": "code",
   "execution_count": 63,
   "metadata": {},
   "outputs": [
    {
     "name": "stdout",
     "output_type": "stream",
     "text": [
      "              precision    recall  f1-score   support\n",
      "\n",
      "      Stayed       0.91      0.89      0.90      1551\n",
      "      Exited       0.60      0.64      0.62       400\n",
      "\n",
      "    accuracy                           0.84      1951\n",
      "   macro avg       0.75      0.76      0.76      1951\n",
      "weighted avg       0.84      0.84      0.84      1951\n",
      "\n"
     ]
    }
   ],
   "source": [
    "# Make predictions for validation dataset\n",
    "y_pred = (prob_valid[:, 1] >= threshold_rf_train).astype(bool)\n",
    "\n",
    "# Generate classification report for validation dataset\n",
    "class_report_rf_thres = classification_report(y_valid, y_pred, \n",
    "                                              target_names=['Stayed', 'Exited']) \n",
    "print(class_report_rf_thres)"
   ]
  },
  {
   "cell_type": "markdown",
   "metadata": {},
   "source": [
    "Да, значение метрики конечно ниже, чем на обучающей выборке, но все-равно выше минимального порога. Полнота и точность примерно одинаковые, а доля правильных ответов 84%. Посмотрим матрицу ошибок:"
   ]
  },
  {
   "cell_type": "code",
   "execution_count": 64,
   "metadata": {},
   "outputs": [
    {
     "data": {
      "image/png": "[encoded data removed]",
      "text/plain": [
       "<Figure size 432x288 with 2 Axes>"
      ]
     },
     "metadata": {
      "needs_background": "light"
     },
     "output_type": "display_data"
    }
   ],
   "source": [
    "# Show confusion matrix for test dataset\n",
    "ConfusionMatrixDisplay(confusion_matrix(y_valid, y_pred), \n",
    "                       display_labels=['Stayed', 'Exited']).plot()\n",
    "plt.show()"
   ]
  },
  {
   "cell_type": "markdown",
   "metadata": {},
   "source": [
    "Не идеально, но значительно лучше, чем было. Посмотрим, получится ли улучшить результат используя взвешивание:"
   ]
  },
  {
   "cell_type": "code",
   "execution_count": 65,
   "metadata": {},
   "outputs": [
    {
     "name": "stdout",
     "output_type": "stream",
     "text": [
      "Best hyperparameters: {'model__max_depth': 5, 'model__n_estimators': 60}\n",
      "Best F1 metrics: 0.60\n",
      "CPU times: total: 4.31 s\n",
      "Wall time: 55 s\n"
     ]
    }
   ],
   "source": [
    "%%time\n",
    "# Set pipeline for random forest\n",
    "pipeline = Pipeline([('preprocessing', preprocessor),\n",
    "                     ('model', \n",
    "                      RandomForestClassifier(random_state=SEED_VALUE, \n",
    "                                             class_weight='balanced'))])\n",
    "\n",
    "# Set hyperparameter values to serach through \n",
    "param_grid = [{'model__max_depth': np.array(range(1, 6)),\n",
    "               'model__n_estimators': np.array(range(10, 101, 10))}]\n",
    "\n",
    "# Perform grid search for best hyperparameters based on f1 score\n",
    "grid_rf_weight = GridSearchCV(pipeline, param_grid=param_grid, scoring=scoring, \n",
    "                              cv=cv, n_jobs=-1, return_train_score=True)\n",
    "grid_rf_weight.fit(X_train, y_train)\n",
    "\n",
    "# Print best parameters, train and validation accuracy\n",
    "print(f\"Best hyperparameters: {grid_rf_weight.best_params_}\")\n",
    "print(f\"Best F1 metrics: {grid_rf_weight.best_score_:.2f}\")"
   ]
  },
  {
   "cell_type": "markdown",
   "metadata": {},
   "source": [
    "Метрика F1 немного ниже, чем при изменении порога, но все равно выше, чем минимальное требуемое значение. Посмотрим графики изменения гиперпараметров:"
   ]
  },
  {
   "cell_type": "code",
   "execution_count": 66,
   "metadata": {},
   "outputs": [
    {
     "data": {
      "image/png": "[encoded data removed]",
      "text/plain": [
       "<Figure size 576x288 with 2 Axes>"
      ]
     },
     "metadata": {
      "needs_background": "light"
     },
     "output_type": "display_data"
    }
   ],
   "source": [
    "# Plot grid search train and validation scores\n",
    "plot_gridsearch_results(grid_rf_weight)"
   ]
  },
  {
   "cell_type": "markdown",
   "metadata": {},
   "source": [
    "Относительно небольшие изменения по сравнению с базовой моделью, хотя оптимальное количество деревьев и снизилось до 60. Посмотрим относительную важность признаков:"
   ]
  },
  {
   "cell_type": "code",
   "execution_count": 67,
   "metadata": {},
   "outputs": [
    {
     "data": {
      "text/plain": [
       "Age                 0.31\n",
       "NumOfProducts_2     0.27\n",
       "IsActiveMember_1    0.10\n",
       "NumOfProducts_3     0.08\n",
       "Balance             0.07\n",
       "Geography_Germany   0.07\n",
       "Gender_Male         0.03\n",
       "CreditScore         0.02\n",
       "NumOfProducts_4     0.02\n",
       "EstimatedSalary     0.01\n",
       "Tenure              0.01\n",
       "Geography_Spain     0.01\n",
       "HasCrCard_1         0.00\n",
       "TenureNan_1         0.00\n",
       "dtype: float64"
      ]
     },
     "execution_count": 67,
     "metadata": {},
     "output_type": "execute_result"
    }
   ],
   "source": [
    "# Show feature importances\n",
    "pd.Series(grid_rf_weight.best_estimator_.named_steps.model.feature_importances_, \n",
    "          index=feature_names).sort_values(ascending=False) "
   ]
  },
  {
   "cell_type": "markdown",
   "metadata": {},
   "source": [
    "По сравнению с базовой моделью порядок немного поменялся, но возраст, количество продуктов и активность по прежнему лидируют. Проверим метрики на валидационоой выборке: "
   ]
  },
  {
   "cell_type": "code",
   "execution_count": 68,
   "metadata": {},
   "outputs": [
    {
     "name": "stdout",
     "output_type": "stream",
     "text": [
      "              precision    recall  f1-score   support\n",
      "\n",
      "      Stayed       0.93      0.83      0.87      1551\n",
      "      Exited       0.53      0.74      0.62       400\n",
      "\n",
      "    accuracy                           0.81      1951\n",
      "   macro avg       0.73      0.79      0.75      1951\n",
      "weighted avg       0.84      0.81      0.82      1951\n",
      "\n"
     ]
    }
   ],
   "source": [
    "# Make predictions for validation dataset\n",
    "y_pred = grid_rf_weight.predict(X_valid)\n",
    "\n",
    "# Generate classification report for validation dataset\n",
    "class_report_rf_weight = classification_report(y_valid, y_pred, \n",
    "                                               target_names=['Stayed', 'Exited'])\n",
    "print(class_report_rf_weight)"
   ]
  },
  {
   "cell_type": "markdown",
   "metadata": {},
   "source": [
    "Интересно, целевая метрика немного выросла по сравнению с обучающей выборкой (все-таки валидационная выборка у нас очень \"счастливая\" получилась, возможно это просто случайность) и достигла значения, которое мы получили при изменении порога. Зато соотношение между полнотой и точностью изменилось довольно существенно (в пользу первой) по сравнению с изменением порога, а доля правильных ответов снизилась. Посмотрим матрицу ошибок:  "
   ]
  },
  {
   "cell_type": "code",
   "execution_count": 69,
   "metadata": {},
   "outputs": [
    {
     "data": {
      "image/png": "[encoded data removed]",
      "text/plain": [
       "<Figure size 432x288 with 2 Axes>"
      ]
     },
     "metadata": {
      "needs_background": "light"
     },
     "output_type": "display_data"
    }
   ],
   "source": [
    "# Show confusion matrix for test dataset\n",
    "ConfusionMatrixDisplay(confusion_matrix(y_valid, y_pred), \n",
    "                       display_labels=['Stayed', 'Exited']).plot()\n",
    "plt.show()"
   ]
  },
  {
   "cell_type": "markdown",
   "metadata": {},
   "source": [
    "Итак, у нас опять довольно много случаев (266), когда оставшиеся клиенты классифицированы, как \"ушедшие\", но зато (по сравнению с изменением порога) всего 104 случая, когда ушедшие клиенты отнесены к оставшимся. \n",
    "\n",
    "А что лучше с точки зрения банка - минимизировать долю клиентов, которые собираются уйти, но при этом израсходовать относительно больше средств на \"удержание\" (так как \"удерживать\" будут относительно больше клиентов, которые и не собирались уходить), или максимально оптимизировать расходы на удержание, но при этом потерять относительно большую долю клиентов? В конечном итоге, ответ вероятно зависит от соотношения между издержками на привлечение новых клиентов, и издержками на удержание текущих.     \n",
    "\n",
    "Вернемся к модели и проконтролируем площадь под ROC-кривой:"
   ]
  },
  {
   "cell_type": "code",
   "execution_count": 70,
   "metadata": {},
   "outputs": [
    {
     "data": {
      "image/png": "[encoded data removed]",
      "text/plain": [
       "<Figure size 432x288 with 1 Axes>"
      ]
     },
     "metadata": {
      "needs_background": "light"
     },
     "output_type": "display_data"
    }
   ],
   "source": [
    "# Predict probabilities\n",
    "prob_valid = grid_rf_weight.predict_proba(X_valid)\n",
    "\n",
    "# Compute area under ROC (for summary table below)\n",
    "auc_roc_rf_weight = roc_auc_score(y_valid, prob_valid[:, 1])\n",
    "\n",
    "# Plot ROC curve\n",
    "RocCurveDisplay.from_predictions(y_valid, prob_valid[:, 1])\n",
    "plt.show()"
   ]
  },
  {
   "cell_type": "markdown",
   "metadata": {},
   "source": [
    "Площадь такая же, как и для \"базовой\" модели (о возможных причинах см. выше).\n",
    "\n",
    "И в заключение попробуем применить \"увеличение\" / \"уменьшение\" выборки:"
   ]
  },
  {
   "cell_type": "code",
   "execution_count": 71,
   "metadata": {},
   "outputs": [
    {
     "name": "stdout",
     "output_type": "stream",
     "text": [
      "Best hyperparameters: {'model__max_depth': 5, 'model__n_estimators': 90, 'resampling__kw_args': {'kind': 'up'}}\n",
      "Best F1 metrics: 0.59\n",
      "CPU times: total: 11.3 s\n",
      "Wall time: 1min 45s\n"
     ]
    }
   ],
   "source": [
    "%%time\n",
    "# Set pipeline for random forest\n",
    "pipeline = Pipeline([('resampling', resampler),\n",
    "                     ('preprocessing', preprocessor),\n",
    "                     ('model', \n",
    "                      RandomForestClassifier(random_state=SEED_VALUE))])\n",
    "\n",
    "# Set hyperparameter values to serach through \n",
    "param_grid = [{'resampling__kw_args': [{'kind': 'up'}, {'kind': 'down'}],\n",
    "               'model__max_depth': np.array(range(1, 6)),\n",
    "               'model__n_estimators': np.array(range(10, 101, 10))}]\n",
    "\n",
    "# Perform grid search for best hyperparameters based on f1 score\n",
    "grid_rf_resamp = GridSearchCV(pipeline, param_grid=param_grid, scoring=scoring, \n",
    "                              cv=cv, n_jobs=-1, return_train_score=True)\n",
    "grid_rf_resamp.fit(X_train, y_train)\n",
    "\n",
    "# Print best parameters, train and validation accuracy\n",
    "print(f\"Best hyperparameters: {grid_rf_resamp.best_params_}\")\n",
    "print(f\"Best F1 metrics: {grid_rf_resamp.best_score_:.2f}\")"
   ]
  },
  {
   "cell_type": "markdown",
   "metadata": {},
   "source": [
    "Метрика F1 еще немного снизилась (по сравнению с другими методами борьбы с дисбалансом) и находится на уровне минимального допустимого значения. Как и в случае с регрессией лучшая метрика достигнута при \"увеличении\" выборки. Посмотрим на графики изменения гиперпараметров:"
   ]
  },
  {
   "cell_type": "code",
   "execution_count": 72,
   "metadata": {},
   "outputs": [
    {
     "data": {
      "image/png": "[encoded data removed]",
      "text/plain": [
       "<Figure size 864x288 with 3 Axes>"
      ]
     },
     "metadata": {
      "needs_background": "light"
     },
     "output_type": "display_data"
    }
   ],
   "source": [
    "# Plot grid search train and validation scores\n",
    "plot_gridsearch_results(grid_rf_resamp)"
   ]
  },
  {
   "cell_type": "markdown",
   "metadata": {},
   "source": [
    "Как и в случае с регрессией разница между \"увеличением\" и \"уменьшением\" минимальна, в остальном результаты схожи с \"базовой\" моделью. Посмотрим относительную важность признаков: "
   ]
  },
  {
   "cell_type": "code",
   "execution_count": 73,
   "metadata": {},
   "outputs": [
    {
     "data": {
      "text/plain": [
       "Age                 0.33\n",
       "NumOfProducts_2     0.28\n",
       "IsActiveMember_1    0.10\n",
       "NumOfProducts_3     0.08\n",
       "Geography_Germany   0.07\n",
       "Balance             0.07\n",
       "Gender_Male         0.02\n",
       "NumOfProducts_4     0.02\n",
       "CreditScore         0.01\n",
       "EstimatedSalary     0.01\n",
       "Tenure              0.01\n",
       "Geography_Spain     0.00\n",
       "HasCrCard_1         0.00\n",
       "TenureNan_1         0.00\n",
       "dtype: float64"
      ]
     },
     "execution_count": 73,
     "metadata": {},
     "output_type": "execute_result"
    }
   ],
   "source": [
    "# Show feature importances\n",
    "pd.Series(grid_rf_resamp.best_estimator_.named_steps.model.feature_importances_, \n",
    "          index=feature_names).sort_values(ascending=False) "
   ]
  },
  {
   "cell_type": "markdown",
   "metadata": {},
   "source": [
    "По сравнению со взвешиванием отличии минимальны. Проверим метрики на валидационной выборке: "
   ]
  },
  {
   "cell_type": "code",
   "execution_count": 74,
   "metadata": {},
   "outputs": [
    {
     "name": "stdout",
     "output_type": "stream",
     "text": [
      "              precision    recall  f1-score   support\n",
      "\n",
      "      Stayed       0.93      0.80      0.86      1551\n",
      "      Exited       0.50      0.77      0.60       400\n",
      "\n",
      "    accuracy                           0.79      1951\n",
      "   macro avg       0.71      0.78      0.73      1951\n",
      "weighted avg       0.84      0.79      0.81      1951\n",
      "\n"
     ]
    }
   ],
   "source": [
    "# Make predictions for validation dataset\n",
    "y_pred = grid_rf_resamp.predict(X_valid)\n",
    "\n",
    "# Generate classification report for validation dataset\n",
    "class_report_rf_resamp = classification_report(y_valid, y_pred, \n",
    "                                               target_names=['Stayed', 'Exited'])\n",
    "print(class_report_rf_resamp)"
   ]
  },
  {
   "cell_type": "markdown",
   "metadata": {},
   "source": [
    "Метрика F1 ниже, чем в случае изменения порога и взвешивания, но в остальном метрики ближе ко второму методу (взвешивание) - относительно высокая полнота, при относительно низкой точности. Посмотрим матрицу ошибок:"
   ]
  },
  {
   "cell_type": "code",
   "execution_count": 75,
   "metadata": {},
   "outputs": [
    {
     "data": {
      "image/png": "[encoded data removed]",
      "text/plain": [
       "<Figure size 432x288 with 2 Axes>"
      ]
     },
     "metadata": {
      "needs_background": "light"
     },
     "output_type": "display_data"
    }
   ],
   "source": [
    "# Show confusion matrix for test dataset\n",
    "ConfusionMatrixDisplay(confusion_matrix(y_valid, y_pred), \n",
    "                       display_labels=['Stayed', 'Exited']).plot()\n",
    "plt.show()"
   ]
  },
  {
   "cell_type": "markdown",
   "metadata": {},
   "source": [
    "Все соответствует результатам \"классификационного отчета\". Проверим площадь под ROC-кривой: "
   ]
  },
  {
   "cell_type": "code",
   "execution_count": 76,
   "metadata": {},
   "outputs": [
    {
     "data": {
      "image/png": "[encoded data removed]",
      "text/plain": [
       "<Figure size 432x288 with 1 Axes>"
      ]
     },
     "metadata": {
      "needs_background": "light"
     },
     "output_type": "display_data"
    }
   ],
   "source": [
    "# Predict probabilities\n",
    "prob_valid = grid_rf_resamp.predict_proba(X_valid)\n",
    "\n",
    "# Compute area under ROC (for summary table below)\n",
    "auc_roc_rf_resamp = roc_auc_score(y_valid, prob_valid[:, 1])\n",
    "\n",
    "# Plot ROC curve\n",
    "RocCurveDisplay.from_predictions(y_valid, prob_valid[:, 1])\n",
    "plt.show()"
   ]
  },
  {
   "cell_type": "markdown",
   "metadata": {},
   "source": [
    "Такая же, как и для \"базовой\" модели (о возможных причинах см. выше). В заключение соберем основные метрики рассмотренных в этом разделе моделей в одну таблицу:"
   ]
  },
  {
   "cell_type": "code",
   "execution_count": 77,
   "metadata": {},
   "outputs": [],
   "source": [
    "# Create summary table with validation results\n",
    "validation_summary = pd.DataFrame(np.zeros(shape=(6, 4)), \n",
    "                                  index = ['lr_thres', 'lr_weight', 'lr_resamp', \n",
    "                                           'rf_thres', 'rf_weight', 'rf_resamp'],\n",
    "                                  columns=['precision', 'recall', 'f1', 'auc_roc'])\n",
    "\n",
    "# Fill in the table\n",
    "for index, model in enumerate(validation_summary.index):    \n",
    "    class_report = eval('class_report_' + model)\n",
    "    validation_summary.loc[model, ['precision', 'recall', 'f1']] = [\n",
    "        float(x) for x in class_report.splitlines()[3].split()[1:4]]    \n",
    "    try:        \n",
    "        validation_summary.loc[model, ['auc_roc']] = eval('auc_roc_' + model)        \n",
    "    except:\n",
    "        validation_summary.loc[model, ['auc_roc']] = None"
   ]
  },
  {
   "cell_type": "markdown",
   "metadata": {},
   "source": [
    "#### 3.2.3 Выводы"
   ]
  },
  {
   "cell_type": "markdown",
   "metadata": {},
   "source": [
    "В этом разделе мы рассмотрели несколько методов борьбы с дисбалансом применив их к моделям логистической регрессии и случайного леса. Выведем основные метрики полученные нами на валидационной выборке в каждом случае: "
   ]
  },
  {
   "cell_type": "code",
   "execution_count": 78,
   "metadata": {},
   "outputs": [
    {
     "data": {
      "text/html": [
       "<div>\n",
       "<style scoped>\n",
       "    .dataframe tbody tr th:only-of-type {\n",
       "        vertical-align: middle;\n",
       "    }\n",
       "\n",
       "    .dataframe tbody tr th {\n",
       "        vertical-align: top;\n",
       "    }\n",
       "\n",
       "    .dataframe thead th {\n",
       "        text-align: right;\n",
       "    }\n",
       "</style>\n",
       "<table border=\"1\" class=\"dataframe\">\n",
       "  <thead>\n",
       "    <tr style=\"text-align: right;\">\n",
       "      <th></th>\n",
       "      <th>precision</th>\n",
       "      <th>recall</th>\n",
       "      <th>f1</th>\n",
       "      <th>auc_roc</th>\n",
       "    </tr>\n",
       "  </thead>\n",
       "  <tbody>\n",
       "    <tr>\n",
       "      <th>lr_thres</th>\n",
       "      <td>0.53</td>\n",
       "      <td>0.64</td>\n",
       "      <td>0.58</td>\n",
       "      <td>NaN</td>\n",
       "    </tr>\n",
       "    <tr>\n",
       "      <th>lr_weight</th>\n",
       "      <td>0.45</td>\n",
       "      <td>0.76</td>\n",
       "      <td>0.57</td>\n",
       "      <td>0.83</td>\n",
       "    </tr>\n",
       "    <tr>\n",
       "      <th>lr_resamp</th>\n",
       "      <td>0.45</td>\n",
       "      <td>0.76</td>\n",
       "      <td>0.56</td>\n",
       "      <td>0.83</td>\n",
       "    </tr>\n",
       "    <tr>\n",
       "      <th>rf_thres</th>\n",
       "      <td>0.60</td>\n",
       "      <td>0.64</td>\n",
       "      <td>0.62</td>\n",
       "      <td>NaN</td>\n",
       "    </tr>\n",
       "    <tr>\n",
       "      <th>rf_weight</th>\n",
       "      <td>0.53</td>\n",
       "      <td>0.74</td>\n",
       "      <td>0.62</td>\n",
       "      <td>0.86</td>\n",
       "    </tr>\n",
       "    <tr>\n",
       "      <th>rf_resamp</th>\n",
       "      <td>0.50</td>\n",
       "      <td>0.77</td>\n",
       "      <td>0.60</td>\n",
       "      <td>0.86</td>\n",
       "    </tr>\n",
       "  </tbody>\n",
       "</table>\n",
       "</div>"
      ],
      "text/plain": [
       "           precision  recall   f1  auc_roc\n",
       "lr_thres        0.53    0.64 0.58      NaN\n",
       "lr_weight       0.45    0.76 0.57     0.83\n",
       "lr_resamp       0.45    0.76 0.56     0.83\n",
       "rf_thres        0.60    0.64 0.62      NaN\n",
       "rf_weight       0.53    0.74 0.62     0.86\n",
       "rf_resamp       0.50    0.77 0.60     0.86"
      ]
     },
     "metadata": {},
     "output_type": "display_data"
    }
   ],
   "source": [
    "# Print the table\n",
    "display(validation_summary)"
   ]
  },
  {
   "cell_type": "markdown",
   "metadata": {},
   "source": [
    "В целом нам удалось улучшить качество моделей по сравнению с \"базовыми\". Однако, только для случайного леса мы достигли и превысили минимальное значение целевой метрики. При этом, лучший результат показали случайный лес с изменением порога и взвешиванием. Заметим однако, что в случае последнего результат на обучающей выборке был немного хуже, и возможно нам просто \"повезло\" с валидационной выборкой. Тем не менее, если обе модели пройдут тестирование в следующем разделе, то мы рекомендуем представить обе модели банку, так как имея относительно разное соотношение метрик полноты и точности, окончательный выбор той или иной модели можно сделать только с учетом понимания фактического соотношения расходов на удержание и привлечение клиентов.\n",
    "\n",
    "Также отметим, что площадь под ROC-кривой не отличается от \"базовых\" моделей, что вероятно связано с тем, что применяя различные методы борьбы с дисбалансом мы перемещаемся вдоль этой кривой, а не изменяем ее (так как не добавляем новой информации)."
   ]
  },
  {
   "cell_type": "markdown",
   "metadata": {},
   "source": [
    "## 4. Тестирование модели"
   ]
  },
  {
   "cell_type": "markdown",
   "metadata": {},
   "source": [
    "Итак, мы решили протестировать две модели, начнем с \"базового\" случайного леса с настройкой порога, но сначала объединим обучающую и валидационную выборки, чтобы переобучить модели:  "
   ]
  },
  {
   "cell_type": "code",
   "execution_count": 79,
   "metadata": {},
   "outputs": [],
   "source": [
    "# Concatinate train and validation subsets\n",
    "X_train = pd.concat([X_train] + [X_valid])\n",
    "y_train = pd.concat([y_train] + [y_valid])"
   ]
  },
  {
   "cell_type": "markdown",
   "metadata": {},
   "source": [
    "Теперь переобучим модель и найдем оптимальный порог на обучающей выборке:"
   ]
  },
  {
   "cell_type": "code",
   "execution_count": 80,
   "metadata": {},
   "outputs": [
    {
     "name": "stdout",
     "output_type": "stream",
     "text": [
      "Train. Max F1: 0.63, Threshold: 0.3\n",
      "Test. Max F1: 0.63, Threshold: 0.29\n"
     ]
    },
    {
     "data": {
      "image/png": "[encoded data removed]",
      "text/plain": [
       "<Figure size 504x360 with 1 Axes>"
      ]
     },
     "metadata": {
      "needs_background": "light"
     },
     "output_type": "display_data"
    },
    {
     "name": "stdout",
     "output_type": "stream",
     "text": [
      "CPU times: total: 10.4 s\n",
      "Wall time: 1min 9s\n"
     ]
    }
   ],
   "source": [
    "%%time\n",
    "# Re-fit random forest\n",
    "grid_rf.fit(X_train, y_train)\n",
    "\n",
    "# Predict probabilities for train and validation sets\n",
    "prob_train = grid_rf.predict_proba(X_train)\n",
    "prob_test = grid_rf.predict_proba(X_test)\n",
    "\n",
    "# Calculate F1 values for different thresholds\n",
    "f1_train, threshold_train = f1_curve(y_train, prob_train[:, 1], \n",
    "                                     step=0.01)\n",
    "f1_test, threshold_test = f1_curve(y_test, prob_test[:, 1], \n",
    "                                     step=0.01)\n",
    "\n",
    "# Compute thresholds for max f1 metric\n",
    "threshold_rf_train = threshold_train[np.argmax(f1_train)]\n",
    "threshold_rf_test = threshold_test[np.argmax(f1_test)]\n",
    "\n",
    "# Print max F1 score and corresponding threshold\n",
    "print(f\"Train. Max F1: {max(f1_train):.2f}, Threshold: {threshold_rf_train}\")\n",
    "print(f\"Test. Max F1: {max(f1_test):.2f}, Threshold: {threshold_rf_test}\")\n",
    "\n",
    "# Plot F1 curve\n",
    "plt.figure(figsize=(7, 5))\n",
    "plt.plot(threshold_test, f1_test, label='f1 score (test)')\n",
    "plt.axvline(x=threshold_rf_train, linestyle='--', \n",
    "            color='red', label='best threshold (train)')\n",
    "plt.axvline(x=threshold_rf_test, linestyle='-', \n",
    "            color='green', label='best threshold (test)')\n",
    "plt.xlabel('threshold')\n",
    "plt.ylabel('F1 score')\n",
    "plt.legend() \n",
    "plt.title('F1 curve')\n",
    "plt.show()"
   ]
  },
  {
   "cell_type": "markdown",
   "metadata": {},
   "source": [
    "Отличие оптимального порогового значения на обучающей и тестовой выборках небольшое, вероятно мы получим метрику больше минимального требуемого значения, проверим: "
   ]
  },
  {
   "cell_type": "code",
   "execution_count": 81,
   "metadata": {},
   "outputs": [
    {
     "name": "stdout",
     "output_type": "stream",
     "text": [
      "              precision    recall  f1-score   support\n",
      "\n",
      "      Stayed       0.90      0.92      0.91      1551\n",
      "      Exited       0.65      0.59      0.62       401\n",
      "\n",
      "    accuracy                           0.85      1952\n",
      "   macro avg       0.77      0.75      0.76      1952\n",
      "weighted avg       0.84      0.85      0.85      1952\n",
      "\n"
     ]
    }
   ],
   "source": [
    "# Make predictions for validation dataset\n",
    "y_pred = (prob_test[:, 1] >= threshold_rf_train).astype(bool)\n",
    "\n",
    "# Generate classification report for validation dataset\n",
    "class_report_rf_thres = classification_report(y_test, y_pred, \n",
    "                                              target_names=['Stayed', 'Exited']) \n",
    "print(class_report_rf_thres)"
   ]
  },
  {
   "cell_type": "markdown",
   "metadata": {},
   "source": [
    "Метрика F1 такая же, как и на валидационной выборке, что неплохо. Однако, соотношение между полнотой и точностью поменялось, полнота снизилась, а точность выросла. Посмотрим на матрицу ошибок:"
   ]
  },
  {
   "cell_type": "code",
   "execution_count": 82,
   "metadata": {},
   "outputs": [
    {
     "data": {
      "image/png": "[encoded data removed]",
      "text/plain": [
       "<Figure size 432x288 with 2 Axes>"
      ]
     },
     "metadata": {
      "needs_background": "light"
     },
     "output_type": "display_data"
    }
   ],
   "source": [
    "# Show confusion matrix for test dataset\n",
    "ConfusionMatrixDisplay(confusion_matrix(y_test, y_pred), \n",
    "                       display_labels=['Stayed', 'Exited']).plot()\n",
    "plt.show()"
   ]
  },
  {
   "cell_type": "markdown",
   "metadata": {},
   "source": [
    "Количество правильно определенных \"ушедших\" снизилось примерно на 10%, а количество \"ушедших\", попавших в другой класс выросло на 15%. При этом, количество \"оставшихся\", попавших в \"чужой\" класс, снизилось на 35%. Довольно большие колебания. Проверим вторую модель:"
   ]
  },
  {
   "cell_type": "code",
   "execution_count": 83,
   "metadata": {},
   "outputs": [
    {
     "name": "stdout",
     "output_type": "stream",
     "text": [
      "              precision    recall  f1-score   support\n",
      "\n",
      "      Stayed       0.92      0.78      0.85      1551\n",
      "      Exited       0.47      0.73      0.57       401\n",
      "\n",
      "    accuracy                           0.77      1952\n",
      "   macro avg       0.69      0.76      0.71      1952\n",
      "weighted avg       0.83      0.77      0.79      1952\n",
      "\n",
      "CPU times: total: 8.72 s\n",
      "Wall time: 1min 19s\n"
     ]
    }
   ],
   "source": [
    "%%time\n",
    "# Refit weighted random forest\n",
    "grid_rf_weight.fit(X_train, y_train)\n",
    "\n",
    "# Make predictions for test dataset\n",
    "y_pred = grid_rf_weight.predict(X_test)\n",
    "\n",
    "# Generate classification report for test dataset\n",
    "class_report_rf_weight = classification_report(y_test, y_pred, \n",
    "                                               target_names=['Stayed', 'Exited'])\n",
    "print(class_report_rf_weight)"
   ]
  },
  {
   "cell_type": "markdown",
   "metadata": {},
   "source": [
    "Похоже нам все-таки \"повезло\" с валидационной выборкой, результат на тестовой заметно ниже и не удовлетворяет минимальному требуемому критерию. Тем не менее посмотрим матрицу ошибок:"
   ]
  },
  {
   "cell_type": "code",
   "execution_count": 84,
   "metadata": {},
   "outputs": [
    {
     "data": {
      "image/png": "[encoded data removed]",
      "text/plain": [
       "<Figure size 432x288 with 2 Axes>"
      ]
     },
     "metadata": {
      "needs_background": "light"
     },
     "output_type": "display_data"
    }
   ],
   "source": [
    "# Show confusion matrix for test dataset\n",
    "ConfusionMatrixDisplay(confusion_matrix(y_test, y_pred), \n",
    "                       display_labels=['Stayed', 'Exited']).plot()\n",
    "plt.show()"
   ]
  },
  {
   "cell_type": "markdown",
   "metadata": {},
   "source": [
    "По сравнению с предыдущей моделью (настройка порога) количество правильно определенных \"ушедших\" значительно выросло (на 25%), а количество \"ушедших\", попавших в \"чужой\" класс снизилось (более чем на 30%), конечно за счет значительно выросшего количества \"оставшихся\", определенных, как \"ушедших\" (рост более чем на 100%). Учитывая, что мы не достигли минимальной требуемой метрики, модель мы конечно принять не можем. Однако, еще раз отметим, что при определенных условиях банку может быть выгодней удерживать, как можно большую долю, действительно собирающихся уйти клиентов, закрывая при этом глаза на то, что часть средств на удержание расходуется на клиентов, которые и не собирались уходить.   "
   ]
  },
  {
   "cell_type": "markdown",
   "metadata": {},
   "source": [
    "### 4.1 Выводы"
   ]
  },
  {
   "cell_type": "markdown",
   "metadata": {},
   "source": [
    "Мы протестировали две модели - случайный лес с оптимизированным порогом и случайный лес со взвешенными классами. Только первая модель успешно прошла тестирование, достигнув значения F1-метрики 0.62 (такого же, как и на валидационной выборке). Вторая модель, показала значение метрики 0.57, что значительно ниже метрики достигнутой на валидационной выборке и ниже минимального требуемого порога метрики F1. Таким образом, мы можем рекомендовать для дальнейшего использования только первую модель. Однако, отметим, что с точки зрения банка соотношение между полнотой и точностью, показываемое этой моделью, может быть неоптимально (даже по сравнению с моделями с более низкой F1-метрикой).  "
   ]
  },
  {
   "cell_type": "markdown",
   "metadata": {},
   "source": [
    "## 5. Общий вывод"
   ]
  },
  {
   "cell_type": "markdown",
   "metadata": {},
   "source": [
    "В данной работе мы попытались построить модель бинарной классификации для целей определения клиентов, которые собираются уйти из банка, с максимально большим значением метрики F1 (но не менее 0.59). Для целей проекта мы использовали данные о поведении 10 тыс. клиентов и расторжении ими договоров с банком (целевой признак). На этапе обзора данных мы обнаружили, что классы целевого признака несбалансированы (расторгли договор с банком только около 20% клиентов, представленных в выборке), а также пропущенные и аномальные значения. После предобработки данных, выбора оптимальной модели с учетом, и без учета дисбаланса и тестирования мы пришли к следующим выводам:\n",
    "\n",
    "- Без учета дисбаланса ни одна из рассмотренных нами моделей (логистическая регрессия и случайный лес) не смогла достичь минимальной требуемой метрики;\n",
    "- После корректировки с учетом дисбаланса в том числе при помощи изменения порога, взвешивания и \"уменьшения\" / \"увеличения\" выборки, все модели показали улучшение метрики F1 (от 5% до 30%);\n",
    "- Однако, только случайный лес показал метрики превышающие минимальное требуемое значение на валидационной выборке:"
   ]
  },
  {
   "cell_type": "code",
   "execution_count": 85,
   "metadata": {},
   "outputs": [
    {
     "data": {
      "text/html": [
       "<div>\n",
       "<style scoped>\n",
       "    .dataframe tbody tr th:only-of-type {\n",
       "        vertical-align: middle;\n",
       "    }\n",
       "\n",
       "    .dataframe tbody tr th {\n",
       "        vertical-align: top;\n",
       "    }\n",
       "\n",
       "    .dataframe thead th {\n",
       "        text-align: right;\n",
       "    }\n",
       "</style>\n",
       "<table border=\"1\" class=\"dataframe\">\n",
       "  <thead>\n",
       "    <tr style=\"text-align: right;\">\n",
       "      <th></th>\n",
       "      <th>precision</th>\n",
       "      <th>recall</th>\n",
       "      <th>f1</th>\n",
       "      <th>auc_roc</th>\n",
       "    </tr>\n",
       "  </thead>\n",
       "  <tbody>\n",
       "    <tr>\n",
       "      <th>lr_thres</th>\n",
       "      <td>0.53</td>\n",
       "      <td>0.64</td>\n",
       "      <td>0.58</td>\n",
       "      <td>NaN</td>\n",
       "    </tr>\n",
       "    <tr>\n",
       "      <th>lr_weight</th>\n",
       "      <td>0.45</td>\n",
       "      <td>0.76</td>\n",
       "      <td>0.57</td>\n",
       "      <td>0.83</td>\n",
       "    </tr>\n",
       "    <tr>\n",
       "      <th>lr_resamp</th>\n",
       "      <td>0.45</td>\n",
       "      <td>0.76</td>\n",
       "      <td>0.56</td>\n",
       "      <td>0.83</td>\n",
       "    </tr>\n",
       "    <tr>\n",
       "      <th>rf_thres</th>\n",
       "      <td>0.60</td>\n",
       "      <td>0.64</td>\n",
       "      <td>0.62</td>\n",
       "      <td>NaN</td>\n",
       "    </tr>\n",
       "    <tr>\n",
       "      <th>rf_weight</th>\n",
       "      <td>0.53</td>\n",
       "      <td>0.74</td>\n",
       "      <td>0.62</td>\n",
       "      <td>0.86</td>\n",
       "    </tr>\n",
       "    <tr>\n",
       "      <th>rf_resamp</th>\n",
       "      <td>0.50</td>\n",
       "      <td>0.77</td>\n",
       "      <td>0.60</td>\n",
       "      <td>0.86</td>\n",
       "    </tr>\n",
       "  </tbody>\n",
       "</table>\n",
       "</div>"
      ],
      "text/plain": [
       "           precision  recall   f1  auc_roc\n",
       "lr_thres        0.53    0.64 0.58      NaN\n",
       "lr_weight       0.45    0.76 0.57     0.83\n",
       "lr_resamp       0.45    0.76 0.56     0.83\n",
       "rf_thres        0.60    0.64 0.62      NaN\n",
       "rf_weight       0.53    0.74 0.62     0.86\n",
       "rf_resamp       0.50    0.77 0.60     0.86"
      ]
     },
     "metadata": {},
     "output_type": "display_data"
    }
   ],
   "source": [
    "# Print the table\n",
    "display(validation_summary)"
   ]
  },
  {
   "cell_type": "markdown",
   "metadata": {},
   "source": [
    "- Также отметим, что площадь под ROC-кривой для всех моделей значительно превышает 0.5, что говорит о том, что они не случайны;\n",
    "- Учитывая, что две модели (случайный лес с оптимизированным порогом и случайный лес со взвешенными классами) показали максимальную метрику на валидационной выборке, мы решили протестировать обе;\n",
    "- Однако, только случайный лес с оптимизированным порогом прошел тестирование показав такую же метрику F1, как и на валидационной выборке (0.62);\n",
    "- При этом, заметим, что значение полноты и точности при валидации и тестировании модели колебалось в диапазонах 0.60 - 0.65 (точность) и 0.59 - 0.64 (полнота);\n",
    "- Также заметим, что в зависимости от соотношения фактических расходов на удержание существующих и привлечение новых клиентов, полученные диапазоны полноты и точности могут быть не оптимальны с точки зрения банка."
   ]
  }
 ],
 "metadata": {
  "ExecuteTimeLog": [
   {
    "duration": 11848,
    "start_time": "2022-07-30T08:30:31.436Z"
   },
   {
    "duration": 1184,
    "start_time": "2022-07-30T08:30:43.286Z"
   },
   {
    "duration": 75,
    "start_time": "2022-07-30T08:30:44.471Z"
   },
   {
    "duration": 16,
    "start_time": "2022-07-30T08:30:44.548Z"
   },
   {
    "duration": 11,
    "start_time": "2022-07-30T08:30:44.566Z"
   },
   {
    "duration": 24,
    "start_time": "2022-07-30T08:30:44.579Z"
   },
   {
    "duration": 47,
    "start_time": "2022-07-30T08:30:44.604Z"
   },
   {
    "duration": 853,
    "start_time": "2022-07-30T08:30:44.661Z"
   },
   {
    "duration": 1596,
    "start_time": "2022-07-30T08:30:45.516Z"
   },
   {
    "duration": 11,
    "start_time": "2022-07-30T08:30:47.114Z"
   },
   {
    "duration": 15,
    "start_time": "2022-07-30T08:30:47.126Z"
   },
   {
    "duration": 20,
    "start_time": "2022-07-30T08:30:47.142Z"
   },
   {
    "duration": 27,
    "start_time": "2022-07-30T08:30:47.164Z"
   },
   {
    "duration": 20,
    "start_time": "2022-07-30T08:30:47.192Z"
   },
   {
    "duration": 25,
    "start_time": "2022-07-30T08:30:47.214Z"
   },
   {
    "duration": 37,
    "start_time": "2022-07-30T08:30:47.241Z"
   },
   {
    "duration": 18,
    "start_time": "2022-07-30T08:30:47.280Z"
   },
   {
    "duration": 34,
    "start_time": "2022-07-30T08:30:47.300Z"
   },
   {
    "duration": 1162,
    "start_time": "2022-07-30T08:30:47.336Z"
   },
   {
    "duration": 140,
    "start_time": "2022-07-30T08:30:48.500Z"
   },
   {
    "duration": 1319,
    "start_time": "2022-07-30T08:30:48.642Z"
   },
   {
    "duration": 6,
    "start_time": "2022-07-30T08:30:49.964Z"
   },
   {
    "duration": 15,
    "start_time": "2022-07-30T08:30:49.972Z"
   },
   {
    "duration": 15,
    "start_time": "2022-07-30T08:30:49.989Z"
   },
   {
    "duration": 42,
    "start_time": "2022-07-30T08:30:50.006Z"
   },
   {
    "duration": 42,
    "start_time": "2022-07-30T08:30:50.051Z"
   },
   {
    "duration": 4,
    "start_time": "2022-07-30T08:30:50.096Z"
   },
   {
    "duration": 7,
    "start_time": "2022-07-30T08:30:50.235Z"
   },
   {
    "duration": 19,
    "start_time": "2022-07-30T08:30:50.243Z"
   },
   {
    "duration": 6,
    "start_time": "2022-07-30T08:30:50.264Z"
   },
   {
    "duration": 9,
    "start_time": "2022-07-30T08:30:50.272Z"
   },
   {
    "duration": 10,
    "start_time": "2022-07-30T08:30:50.282Z"
   },
   {
    "duration": 13,
    "start_time": "2022-07-30T08:30:50.294Z"
   },
   {
    "duration": 40052,
    "start_time": "2022-07-30T08:30:50.309Z"
   },
   {
    "duration": 98,
    "start_time": "2022-07-30T08:31:30.363Z"
   },
   {
    "duration": 258,
    "start_time": "2022-07-30T08:31:30.463Z"
   },
   {
    "duration": 8,
    "start_time": "2022-07-30T08:31:30.722Z"
   },
   {
    "duration": 260,
    "start_time": "2022-07-30T08:31:30.732Z"
   },
   {
    "duration": 230,
    "start_time": "2022-07-30T08:31:31.062Z"
   },
   {
    "duration": 291,
    "start_time": "2022-07-30T08:31:31.294Z"
   },
   {
    "duration": 288554,
    "start_time": "2022-07-30T08:31:31.587Z"
   },
   {
    "duration": 375,
    "start_time": "2022-07-30T08:36:20.143Z"
   },
   {
    "duration": 15,
    "start_time": "2022-07-30T08:36:20.520Z"
   },
   {
    "duration": 369,
    "start_time": "2022-07-30T08:36:20.536Z"
   },
   {
    "duration": 148,
    "start_time": "2022-07-30T08:36:20.907Z"
   },
   {
    "duration": 314,
    "start_time": "2022-07-30T08:36:21.060Z"
   },
   {
    "duration": 3,
    "start_time": "2022-07-30T08:36:21.376Z"
   },
   {
    "duration": 1660,
    "start_time": "2022-07-30T08:36:21.380Z"
   },
   {
    "duration": 20,
    "start_time": "2022-07-30T08:36:23.042Z"
   },
   {
    "duration": 136,
    "start_time": "2022-07-30T08:36:23.064Z"
   },
   {
    "duration": 38364,
    "start_time": "2022-07-30T08:36:23.202Z"
   },
   {
    "duration": 355,
    "start_time": "2022-07-30T08:37:01.571Z"
   },
   {
    "duration": 6,
    "start_time": "2022-07-30T08:37:01.928Z"
   },
   {
    "duration": 426,
    "start_time": "2022-07-30T08:37:01.936Z"
   },
   {
    "duration": 220,
    "start_time": "2022-07-30T08:37:02.365Z"
   },
   {
    "duration": 293,
    "start_time": "2022-07-30T08:37:02.587Z"
   },
   {
    "duration": 87403,
    "start_time": "2022-07-30T08:37:02.962Z"
   },
   {
    "duration": 535,
    "start_time": "2022-07-30T08:38:30.368Z"
   },
   {
    "duration": 6,
    "start_time": "2022-07-30T08:38:30.904Z"
   },
   {
    "duration": 450,
    "start_time": "2022-07-30T08:38:30.912Z"
   },
   {
    "duration": 225,
    "start_time": "2022-07-30T08:38:31.364Z"
   },
   {
    "duration": 295,
    "start_time": "2022-07-30T08:38:31.591Z"
   },
   {
    "duration": 1581,
    "start_time": "2022-07-30T08:38:31.963Z"
   },
   {
    "duration": 22,
    "start_time": "2022-07-30T08:38:33.546Z"
   },
   {
    "duration": 149,
    "start_time": "2022-07-30T08:38:33.569Z"
   },
   {
    "duration": 292875,
    "start_time": "2022-07-30T08:38:33.720Z"
   },
   {
    "duration": 422,
    "start_time": "2022-07-30T08:43:26.597Z"
   },
   {
    "duration": 12,
    "start_time": "2022-07-30T08:43:27.020Z"
   },
   {
    "duration": 373,
    "start_time": "2022-07-30T08:43:27.033Z"
   },
   {
    "duration": 144,
    "start_time": "2022-07-30T08:43:27.408Z"
   },
   {
    "duration": 244,
    "start_time": "2022-07-30T08:43:27.554Z"
   },
   {
    "duration": 680169,
    "start_time": "2022-07-30T08:43:27.800Z"
   },
   {
    "duration": 546,
    "start_time": "2022-07-30T08:54:47.971Z"
   },
   {
    "duration": 15,
    "start_time": "2022-07-30T08:54:48.518Z"
   },
   {
    "duration": 393,
    "start_time": "2022-07-30T08:54:48.535Z"
   },
   {
    "duration": 145,
    "start_time": "2022-07-30T08:54:48.930Z"
   },
   {
    "duration": 347,
    "start_time": "2022-07-30T08:54:49.077Z"
   },
   {
    "duration": 13,
    "start_time": "2022-07-30T08:54:49.426Z"
   },
   {
    "duration": 29,
    "start_time": "2022-07-30T08:54:49.441Z"
   },
   {
    "duration": 8,
    "start_time": "2022-07-30T08:54:49.472Z"
   },
   {
    "duration": 453104,
    "start_time": "2022-07-30T08:54:49.482Z"
   },
   {
    "duration": 10,
    "start_time": "2022-07-30T09:02:22.591Z"
   },
   {
    "duration": 179,
    "start_time": "2022-07-30T09:02:22.603Z"
   },
   {
    "duration": 439643,
    "start_time": "2022-07-30T09:02:22.783Z"
   },
   {
    "duration": 199,
    "start_time": "2022-07-30T09:09:42.427Z"
   },
   {
    "duration": 10,
    "start_time": "2022-07-30T09:09:42.627Z"
   }
  ],
  "kernelspec": {
   "display_name": "Python 3.9.12 ('practicum')",
   "language": "python",
   "name": "python3"
  },
  "language_info": {
   "codemirror_mode": {
    "name": "ipython",
    "version": 3
   },
   "file_extension": ".py",
   "mimetype": "text/x-python",
   "name": "python",
   "nbconvert_exporter": "python",
   "pygments_lexer": "ipython3",
   "version": "3.9.12"
  },
  "toc": {
   "base_numbering": 1,
   "nav_menu": {},
   "number_sections": false,
   "sideBar": true,
   "skip_h1_title": true,
   "title_cell": "Содержание",
   "title_sidebar": "Contents",
   "toc_cell": true,
   "toc_position": {},
   "toc_section_display": true,
   "toc_window_display": true
  },
  "toc-autonumbering": false,
  "vscode": {
   "interpreter": {
    "hash": "4c2ed0a54754d58ec600763bceea1fa034ee527fb9a75342fb6cc3ec66d37b7e"
   }
  }
 },
 "nbformat": 4,
 "nbformat_minor": 4
}
